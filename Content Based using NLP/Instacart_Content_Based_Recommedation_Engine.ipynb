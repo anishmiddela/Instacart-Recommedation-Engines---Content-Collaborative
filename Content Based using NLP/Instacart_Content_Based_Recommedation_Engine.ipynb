{
  "cells": [
    {
      "cell_type": "code",
      "execution_count": 6,
      "metadata": {
        "id": "ktzMxEp5s_Mz"
      },
      "outputs": [],
      "source": [
        "import pandas as pd\n",
        "import numpy as np\n",
        "import matplotlib.pyplot as plt\n",
        "import seaborn as sns"
      ]
    },
    {
      "cell_type": "code",
      "execution_count": 7,
      "metadata": {
        "id": "l8-IQmsltF68"
      },
      "outputs": [],
      "source": [
        "aisles = pd.read_csv('/instacart/aisles.csv')\n",
        "departments = pd.read_csv('/instacart/departments.csv')\n",
        "orders = pd.read_csv('/instacart/orders.csv')\n",
        "products = pd.read_csv('/instacart/products.csv')"
      ]
    },
    {
      "cell_type": "code",
      "execution_count": 8,
      "metadata": {
        "id": "1-Kd3VInAzsf"
      },
      "outputs": [],
      "source": [
        "order_products_prior = pd.read_csv('/instacart/order_products__prior.csv')\n",
        "orderproducts_train = pd.read_csv('/instacart/order_products__train.csv')"
      ]
    },
    {
      "cell_type": "code",
      "execution_count": 9,
      "metadata": {
        "colab": {
          "base_uri": "https://localhost:8080/"
        },
        "id": "Tu8Yuzba3KWo",
        "outputId": "c2c3face-25a0-4141-873b-71ed153e64a0"
      },
      "outputs": [
        {
          "name": "stdout",
          "output_type": "stream",
          "text": [
            "(134, 2)\n",
            "     aisle_id                    aisle\n",
            "103       104        spices seasonings\n",
            "116       117   nuts seeds dried fruit\n",
            "28         29    honeys syrups nectars\n",
            "131       132                   beauty\n",
            "1           2        specialty cheeses\n",
            "53         54              paper goods\n",
            "50         51   preserved dips spreads\n",
            "108       109                skin care\n",
            "128       129  frozen appetizers sides\n",
            "66         67     fresh dips tapenades\n"
          ]
        }
      ],
      "source": [
        "print(aisles.shape)\n",
        "print(aisles.sample(10))"
      ]
    },
    {
      "cell_type": "code",
      "execution_count": 10,
      "metadata": {
        "colab": {
          "base_uri": "https://localhost:8080/"
        },
        "id": "ZOCpnzn93XHh",
        "outputId": "7b6c6d13-2e51-445d-a10b-b1b326881f70"
      },
      "outputs": [
        {
          "name": "stdout",
          "output_type": "stream",
          "text": [
            "(21, 2)\n",
            "    department_id     department\n",
            "17             18         babies\n",
            "6               7      beverages\n",
            "7               8           pets\n",
            "14             15   canned goods\n",
            "15             16     dairy eggs\n",
            "12             13         pantry\n",
            "5               6  international\n",
            "3               4        produce\n",
            "0               1         frozen\n",
            "13             14      breakfast\n"
          ]
        }
      ],
      "source": [
        "print(departments.shape)\n",
        "print(departments.sample(10))"
      ]
    },
    {
      "cell_type": "code",
      "execution_count": 11,
      "metadata": {
        "colab": {
          "base_uri": "https://localhost:8080/"
        },
        "id": "nUka3fWO3dy_",
        "outputId": "bda51b80-02e1-4b55-b4f0-a03deaa5ae9d"
      },
      "outputs": [
        {
          "name": "stdout",
          "output_type": "stream",
          "text": [
            "(3421083, 7)\n",
            "         order_id  user_id eval_set  order_number  order_dow  \\\n",
            "315786    1581701    19114    prior             8          5   \n",
            "2559243   2544839   154001    prior            32          3   \n",
            "2794293   1557566   168556    prior            18          2   \n",
            "1202508   1561193    72281    prior            29          1   \n",
            "281168    2559514    17001    prior            13          4   \n",
            "\n",
            "         order_hour_of_day  days_since_prior_order  \n",
            "315786                  17                     7.0  \n",
            "2559243                 19                     2.0  \n",
            "2794293                 19                    17.0  \n",
            "1202508                 14                     4.0  \n",
            "281168                  16                     4.0  \n"
          ]
        }
      ],
      "source": [
        "print(orders.shape)\n",
        "print(orders.sample(5))"
      ]
    },
    {
      "cell_type": "code",
      "execution_count": 12,
      "metadata": {
        "colab": {
          "base_uri": "https://localhost:8080/"
        },
        "id": "F-YgrJij3mOQ",
        "outputId": "52502f17-a10e-4eb2-c73d-ef502efe20df"
      },
      "outputs": [
        {
          "name": "stdout",
          "output_type": "stream",
          "text": [
            "(49688, 4)\n",
            "       product_id                                  product_name  aisle_id  \\\n",
            "12372       12373    Chewy Nut Butter Almond Snickerdoodle Bars       100   \n",
            "30102       30103                       Cookies, Milk Chocolate        61   \n",
            "32147       32148  Vanilla Spiru-Tein High Protein Energy Shake        65   \n",
            "36210       36211             Red Pomegranate And Spruce Candle       101   \n",
            "20510       20511          Gelato Indulgences Chocolate Caramel        37   \n",
            "\n",
            "       department_id  \n",
            "12372             21  \n",
            "30102             19  \n",
            "32147             11  \n",
            "36210             17  \n",
            "20510              1  \n"
          ]
        }
      ],
      "source": [
        "print(products.shape)\n",
        "print(products.sample(5))"
      ]
    },
    {
      "cell_type": "code",
      "execution_count": 13,
      "metadata": {
        "colab": {
          "base_uri": "https://localhost:8080/"
        },
        "id": "hWi5hBKHBOWW",
        "outputId": "d07e5ae2-4e39-415e-9a6e-163421a28a14"
      },
      "outputs": [
        {
          "name": "stdout",
          "output_type": "stream",
          "text": [
            "(32434489, 4)\n",
            "          order_id  product_id  add_to_cart_order  reordered\n",
            "3864280     407883       42265                  6          1\n",
            "4402390     464682       36005                  4          0\n",
            "8958365     945754       14633                 12          0\n",
            "12097977   1277047       21376                 10          0\n",
            "20366356   2148192       15772                  2          1\n"
          ]
        }
      ],
      "source": [
        "print(order_products_prior.shape)\n",
        "print(order_products_prior.sample(5))"
      ]
    },
    {
      "cell_type": "code",
      "execution_count": 14,
      "metadata": {
        "colab": {
          "base_uri": "https://localhost:8080/"
        },
        "id": "DRDrwhHYBZRf",
        "outputId": "8fc33f85-a48b-4354-ebd4-f97acd71562d"
      },
      "outputs": [
        {
          "name": "stdout",
          "output_type": "stream",
          "text": [
            "(1384617, 4)\n",
            "         order_id  product_id  add_to_cart_order  reordered\n",
            "1376248   3402320       22548                  2          1\n",
            "983209    2426540       19575                  5          1\n",
            "476692    1167934        8518                  2          1\n",
            "364418     887177       36216                  4          1\n",
            "805988    1987502       25397                  2          0\n"
          ]
        }
      ],
      "source": [
        "print(orderproducts_train.shape)\n",
        "print(orderproducts_train.sample(5))"
      ]
    },
    {
      "cell_type": "markdown",
      "metadata": {
        "id": "FxCXof3M_CZ6"
      },
      "source": [
        "# Combining DF\n",
        "Getting Complete details of Prodcuts with Aisle and Department Information"
      ]
    },
    {
      "cell_type": "code",
      "execution_count": 15,
      "metadata": {
        "id": "hMl17TdU_OjZ"
      },
      "outputs": [],
      "source": [
        "df = pd.merge(pd.merge(pd.merge(orderproducts_train,products, on=\"product_id\", how = 'inner'), aisles,on=\"aisle_id\", how='inner'),departments,on=\"department_id\", how = 'inner')"
      ]
    },
    {
      "cell_type": "code",
      "execution_count": 16,
      "metadata": {
        "colab": {
          "base_uri": "https://localhost:8080/",
          "height": 660
        },
        "id": "FRdI4bqoAa6c",
        "outputId": "6dda09c9-8da8-47ab-cb9d-7e2db75ef259"
      },
      "outputs": [
        {
          "data": {
            "text/html": [
              "<div>\n",
              "<style scoped>\n",
              "    .dataframe tbody tr th:only-of-type {\n",
              "        vertical-align: middle;\n",
              "    }\n",
              "\n",
              "    .dataframe tbody tr th {\n",
              "        vertical-align: top;\n",
              "    }\n",
              "\n",
              "    .dataframe thead th {\n",
              "        text-align: right;\n",
              "    }\n",
              "</style>\n",
              "<table border=\"1\" class=\"dataframe\">\n",
              "  <thead>\n",
              "    <tr style=\"text-align: right;\">\n",
              "      <th></th>\n",
              "      <th>order_id</th>\n",
              "      <th>product_id</th>\n",
              "      <th>add_to_cart_order</th>\n",
              "      <th>reordered</th>\n",
              "      <th>product_name</th>\n",
              "      <th>aisle_id</th>\n",
              "      <th>department_id</th>\n",
              "      <th>aisle</th>\n",
              "      <th>department</th>\n",
              "    </tr>\n",
              "  </thead>\n",
              "  <tbody>\n",
              "    <tr>\n",
              "      <th>0</th>\n",
              "      <td>1</td>\n",
              "      <td>49302</td>\n",
              "      <td>1</td>\n",
              "      <td>1</td>\n",
              "      <td>Bulgarian Yogurt</td>\n",
              "      <td>120</td>\n",
              "      <td>16</td>\n",
              "      <td>yogurt</td>\n",
              "      <td>dairy eggs</td>\n",
              "    </tr>\n",
              "    <tr>\n",
              "      <th>1</th>\n",
              "      <td>816049</td>\n",
              "      <td>49302</td>\n",
              "      <td>7</td>\n",
              "      <td>1</td>\n",
              "      <td>Bulgarian Yogurt</td>\n",
              "      <td>120</td>\n",
              "      <td>16</td>\n",
              "      <td>yogurt</td>\n",
              "      <td>dairy eggs</td>\n",
              "    </tr>\n",
              "    <tr>\n",
              "      <th>2</th>\n",
              "      <td>1242203</td>\n",
              "      <td>49302</td>\n",
              "      <td>1</td>\n",
              "      <td>1</td>\n",
              "      <td>Bulgarian Yogurt</td>\n",
              "      <td>120</td>\n",
              "      <td>16</td>\n",
              "      <td>yogurt</td>\n",
              "      <td>dairy eggs</td>\n",
              "    </tr>\n",
              "    <tr>\n",
              "      <th>3</th>\n",
              "      <td>1383349</td>\n",
              "      <td>49302</td>\n",
              "      <td>11</td>\n",
              "      <td>1</td>\n",
              "      <td>Bulgarian Yogurt</td>\n",
              "      <td>120</td>\n",
              "      <td>16</td>\n",
              "      <td>yogurt</td>\n",
              "      <td>dairy eggs</td>\n",
              "    </tr>\n",
              "    <tr>\n",
              "      <th>4</th>\n",
              "      <td>1787378</td>\n",
              "      <td>49302</td>\n",
              "      <td>8</td>\n",
              "      <td>0</td>\n",
              "      <td>Bulgarian Yogurt</td>\n",
              "      <td>120</td>\n",
              "      <td>16</td>\n",
              "      <td>yogurt</td>\n",
              "      <td>dairy eggs</td>\n",
              "    </tr>\n",
              "    <tr>\n",
              "      <th>5</th>\n",
              "      <td>2445303</td>\n",
              "      <td>49302</td>\n",
              "      <td>2</td>\n",
              "      <td>1</td>\n",
              "      <td>Bulgarian Yogurt</td>\n",
              "      <td>120</td>\n",
              "      <td>16</td>\n",
              "      <td>yogurt</td>\n",
              "      <td>dairy eggs</td>\n",
              "    </tr>\n",
              "    <tr>\n",
              "      <th>6</th>\n",
              "      <td>2853065</td>\n",
              "      <td>49302</td>\n",
              "      <td>12</td>\n",
              "      <td>1</td>\n",
              "      <td>Bulgarian Yogurt</td>\n",
              "      <td>120</td>\n",
              "      <td>16</td>\n",
              "      <td>yogurt</td>\n",
              "      <td>dairy eggs</td>\n",
              "    </tr>\n",
              "    <tr>\n",
              "      <th>7</th>\n",
              "      <td>3231517</td>\n",
              "      <td>49302</td>\n",
              "      <td>6</td>\n",
              "      <td>1</td>\n",
              "      <td>Bulgarian Yogurt</td>\n",
              "      <td>120</td>\n",
              "      <td>16</td>\n",
              "      <td>yogurt</td>\n",
              "      <td>dairy eggs</td>\n",
              "    </tr>\n",
              "    <tr>\n",
              "      <th>8</th>\n",
              "      <td>98</td>\n",
              "      <td>43654</td>\n",
              "      <td>3</td>\n",
              "      <td>1</td>\n",
              "      <td>Whole Milk Greek Blended Vanilla Bean Yogurt</td>\n",
              "      <td>120</td>\n",
              "      <td>16</td>\n",
              "      <td>yogurt</td>\n",
              "      <td>dairy eggs</td>\n",
              "    </tr>\n",
              "    <tr>\n",
              "      <th>9</th>\n",
              "      <td>13746</td>\n",
              "      <td>43654</td>\n",
              "      <td>9</td>\n",
              "      <td>0</td>\n",
              "      <td>Whole Milk Greek Blended Vanilla Bean Yogurt</td>\n",
              "      <td>120</td>\n",
              "      <td>16</td>\n",
              "      <td>yogurt</td>\n",
              "      <td>dairy eggs</td>\n",
              "    </tr>\n",
              "  </tbody>\n",
              "</table>\n",
              "</div>"
            ],
            "text/plain": [
              "   order_id  product_id  add_to_cart_order  reordered  \\\n",
              "0         1       49302                  1          1   \n",
              "1    816049       49302                  7          1   \n",
              "2   1242203       49302                  1          1   \n",
              "3   1383349       49302                 11          1   \n",
              "4   1787378       49302                  8          0   \n",
              "5   2445303       49302                  2          1   \n",
              "6   2853065       49302                 12          1   \n",
              "7   3231517       49302                  6          1   \n",
              "8        98       43654                  3          1   \n",
              "9     13746       43654                  9          0   \n",
              "\n",
              "                                   product_name  aisle_id  department_id  \\\n",
              "0                              Bulgarian Yogurt       120             16   \n",
              "1                              Bulgarian Yogurt       120             16   \n",
              "2                              Bulgarian Yogurt       120             16   \n",
              "3                              Bulgarian Yogurt       120             16   \n",
              "4                              Bulgarian Yogurt       120             16   \n",
              "5                              Bulgarian Yogurt       120             16   \n",
              "6                              Bulgarian Yogurt       120             16   \n",
              "7                              Bulgarian Yogurt       120             16   \n",
              "8  Whole Milk Greek Blended Vanilla Bean Yogurt       120             16   \n",
              "9  Whole Milk Greek Blended Vanilla Bean Yogurt       120             16   \n",
              "\n",
              "    aisle  department  \n",
              "0  yogurt  dairy eggs  \n",
              "1  yogurt  dairy eggs  \n",
              "2  yogurt  dairy eggs  \n",
              "3  yogurt  dairy eggs  \n",
              "4  yogurt  dairy eggs  \n",
              "5  yogurt  dairy eggs  \n",
              "6  yogurt  dairy eggs  \n",
              "7  yogurt  dairy eggs  \n",
              "8  yogurt  dairy eggs  \n",
              "9  yogurt  dairy eggs  "
            ]
          },
          "execution_count": 16,
          "metadata": {},
          "output_type": "execute_result"
        }
      ],
      "source": [
        "df.head(10)"
      ]
    },
    {
      "cell_type": "code",
      "execution_count": 17,
      "metadata": {
        "id": "FP2sX_kQB7e_"
      },
      "outputs": [],
      "source": [
        "df_meta= df.groupby('product_id', as_index=False).agg(set)"
      ]
    },
    {
      "cell_type": "code",
      "execution_count": 18,
      "metadata": {
        "colab": {
          "base_uri": "https://localhost:8080/",
          "height": 573
        },
        "id": "HPgeZiN-CCeU",
        "outputId": "86f1dbf8-32cf-43ae-e8f6-d59879bcb03d"
      },
      "outputs": [
        {
          "data": {
            "text/html": [
              "<div>\n",
              "<style scoped>\n",
              "    .dataframe tbody tr th:only-of-type {\n",
              "        vertical-align: middle;\n",
              "    }\n",
              "\n",
              "    .dataframe tbody tr th {\n",
              "        vertical-align: top;\n",
              "    }\n",
              "\n",
              "    .dataframe thead th {\n",
              "        text-align: right;\n",
              "    }\n",
              "</style>\n",
              "<table border=\"1\" class=\"dataframe\">\n",
              "  <thead>\n",
              "    <tr style=\"text-align: right;\">\n",
              "      <th></th>\n",
              "      <th>product_id</th>\n",
              "      <th>order_id</th>\n",
              "      <th>add_to_cart_order</th>\n",
              "      <th>reordered</th>\n",
              "      <th>product_name</th>\n",
              "      <th>aisle_id</th>\n",
              "      <th>department_id</th>\n",
              "      <th>aisle</th>\n",
              "      <th>department</th>\n",
              "    </tr>\n",
              "  </thead>\n",
              "  <tbody>\n",
              "    <tr>\n",
              "      <th>0</th>\n",
              "      <td>1</td>\n",
              "      <td>{1981184, 2111236, 1708933, 337286, 1639546, 1...</td>\n",
              "      <td>{1, 2, 3, 4, 5, 6, 7, 8, 9, 10, 11, 12, 14, 15...</td>\n",
              "      <td>{0, 1}</td>\n",
              "      <td>{Chocolate Sandwich Cookies}</td>\n",
              "      <td>{61}</td>\n",
              "      <td>{19}</td>\n",
              "      <td>{cookies cakes}</td>\n",
              "      <td>{snacks}</td>\n",
              "    </tr>\n",
              "    <tr>\n",
              "      <th>1</th>\n",
              "      <td>2</td>\n",
              "      <td>{1550225, 1455635, 2481009, 3288051}</td>\n",
              "      <td>{17, 26, 5, 15}</td>\n",
              "      <td>{0, 1}</td>\n",
              "      <td>{All-Seasons Salt}</td>\n",
              "      <td>{104}</td>\n",
              "      <td>{13}</td>\n",
              "      <td>{spices seasonings}</td>\n",
              "      <td>{pantry}</td>\n",
              "    </tr>\n",
              "    <tr>\n",
              "      <th>2</th>\n",
              "      <td>3</td>\n",
              "      <td>{489378, 72425, 2339119, 1176592, 2741526, 218...</td>\n",
              "      <td>{1, 13, 5, 6}</td>\n",
              "      <td>{1}</td>\n",
              "      <td>{Robust Golden Unsweetened Oolong Tea}</td>\n",
              "      <td>{94}</td>\n",
              "      <td>{7}</td>\n",
              "      <td>{tea}</td>\n",
              "      <td>{beverages}</td>\n",
              "    </tr>\n",
              "    <tr>\n",
              "      <th>3</th>\n",
              "      <td>4</td>\n",
              "      <td>{2742787, 459014, 2891043, 918568, 770868, 237...</td>\n",
              "      <td>{1, 2, 3, 4, 5, 6, 7, 8, 9, 10, 12, 13, 14, 16...</td>\n",
              "      <td>{0, 1}</td>\n",
              "      <td>{Smart Ones Classic Favorites Mini Rigatoni Wi...</td>\n",
              "      <td>{38}</td>\n",
              "      <td>{1}</td>\n",
              "      <td>{frozen meals}</td>\n",
              "      <td>{frozen}</td>\n",
              "    </tr>\n",
              "    <tr>\n",
              "      <th>4</th>\n",
              "      <td>5</td>\n",
              "      <td>{1854678}</td>\n",
              "      <td>{5}</td>\n",
              "      <td>{1}</td>\n",
              "      <td>{Green Chile Anytime Sauce}</td>\n",
              "      <td>{5}</td>\n",
              "      <td>{13}</td>\n",
              "      <td>{marinades meat preparation}</td>\n",
              "      <td>{pantry}</td>\n",
              "    </tr>\n",
              "  </tbody>\n",
              "</table>\n",
              "</div>"
            ],
            "text/plain": [
              "   product_id                                           order_id  \\\n",
              "0           1  {1981184, 2111236, 1708933, 337286, 1639546, 1...   \n",
              "1           2               {1550225, 1455635, 2481009, 3288051}   \n",
              "2           3  {489378, 72425, 2339119, 1176592, 2741526, 218...   \n",
              "3           4  {2742787, 459014, 2891043, 918568, 770868, 237...   \n",
              "4           5                                          {1854678}   \n",
              "\n",
              "                                   add_to_cart_order reordered  \\\n",
              "0  {1, 2, 3, 4, 5, 6, 7, 8, 9, 10, 11, 12, 14, 15...    {0, 1}   \n",
              "1                                    {17, 26, 5, 15}    {0, 1}   \n",
              "2                                      {1, 13, 5, 6}       {1}   \n",
              "3  {1, 2, 3, 4, 5, 6, 7, 8, 9, 10, 12, 13, 14, 16...    {0, 1}   \n",
              "4                                                {5}       {1}   \n",
              "\n",
              "                                        product_name aisle_id department_id  \\\n",
              "0                       {Chocolate Sandwich Cookies}     {61}          {19}   \n",
              "1                                 {All-Seasons Salt}    {104}          {13}   \n",
              "2             {Robust Golden Unsweetened Oolong Tea}     {94}           {7}   \n",
              "3  {Smart Ones Classic Favorites Mini Rigatoni Wi...     {38}           {1}   \n",
              "4                        {Green Chile Anytime Sauce}      {5}          {13}   \n",
              "\n",
              "                          aisle   department  \n",
              "0               {cookies cakes}     {snacks}  \n",
              "1           {spices seasonings}     {pantry}  \n",
              "2                         {tea}  {beverages}  \n",
              "3                {frozen meals}     {frozen}  \n",
              "4  {marinades meat preparation}     {pantry}  "
            ]
          },
          "execution_count": 18,
          "metadata": {},
          "output_type": "execute_result"
        }
      ],
      "source": [
        "df_meta.head()"
      ]
    },
    {
      "cell_type": "code",
      "execution_count": 19,
      "metadata": {
        "id": "PS96OrB1FaQP"
      },
      "outputs": [],
      "source": [
        "df_meta['aisle'] = df_meta['aisle'].apply(lambda x: [i.replace(' ','') for i in x])\n",
        "df_meta['department'] = df_meta['department'].apply(lambda x: [i.replace(' ','') for i in x])\n",
        "df_meta['product_name'] = df_meta['product_name'].apply(lambda x: [i.replace(' ',' ') for i in x])"
      ]
    },
    {
      "cell_type": "code",
      "execution_count": 20,
      "metadata": {
        "id": "59RI7hTljeUw"
      },
      "outputs": [],
      "source": [
        "df_meta['Description']=df_meta['product_name']"
      ]
    },
    {
      "cell_type": "code",
      "execution_count": 21,
      "metadata": {
        "colab": {
          "base_uri": "https://localhost:8080/",
          "height": 371
        },
        "id": "UIs251m1RoBM",
        "outputId": "38a02174-cb66-4859-a736-6bcc3329e648"
      },
      "outputs": [
        {
          "data": {
            "text/html": [
              "<div>\n",
              "<style scoped>\n",
              "    .dataframe tbody tr th:only-of-type {\n",
              "        vertical-align: middle;\n",
              "    }\n",
              "\n",
              "    .dataframe tbody tr th {\n",
              "        vertical-align: top;\n",
              "    }\n",
              "\n",
              "    .dataframe thead th {\n",
              "        text-align: right;\n",
              "    }\n",
              "</style>\n",
              "<table border=\"1\" class=\"dataframe\">\n",
              "  <thead>\n",
              "    <tr style=\"text-align: right;\">\n",
              "      <th></th>\n",
              "      <th>product_id</th>\n",
              "      <th>order_id</th>\n",
              "      <th>add_to_cart_order</th>\n",
              "      <th>reordered</th>\n",
              "      <th>product_name</th>\n",
              "      <th>aisle_id</th>\n",
              "      <th>department_id</th>\n",
              "      <th>aisle</th>\n",
              "      <th>department</th>\n",
              "      <th>Description</th>\n",
              "    </tr>\n",
              "  </thead>\n",
              "  <tbody>\n",
              "    <tr>\n",
              "      <th>638</th>\n",
              "      <td>788</td>\n",
              "      <td>{145667, 2246795, 1065614, 271759, 1371920, 24...</td>\n",
              "      <td>{1, 2, 3, 4, 5, 6, 7, 8, 9, 10, 11, 16, 18, 26...</td>\n",
              "      <td>{0, 1}</td>\n",
              "      <td>[XXX Acai Blueberry Pomegranate]</td>\n",
              "      <td>{64}</td>\n",
              "      <td>{7}</td>\n",
              "      <td>[energysportsdrinks]</td>\n",
              "      <td>[beverages]</td>\n",
              "      <td>[XXX Acai Blueberry Pomegranate]</td>\n",
              "    </tr>\n",
              "    <tr>\n",
              "      <th>1527</th>\n",
              "      <td>1937</td>\n",
              "      <td>{41125, 2563763, 3265235, 1240090, 607709}</td>\n",
              "      <td>{4, 7, 11, 13, 18}</td>\n",
              "      <td>{0}</td>\n",
              "      <td>[Red Velvet Cake Slice]</td>\n",
              "      <td>{8}</td>\n",
              "      <td>{3}</td>\n",
              "      <td>[bakerydesserts]</td>\n",
              "      <td>[bakery]</td>\n",
              "      <td>[Red Velvet Cake Slice]</td>\n",
              "    </tr>\n",
              "    <tr>\n",
              "      <th>32189</th>\n",
              "      <td>40864</td>\n",
              "      <td>{1073700, 1515759, 2911123, 433013, 1752120, 4...</td>\n",
              "      <td>{2, 34, 4, 5, 8, 10}</td>\n",
              "      <td>{0, 1}</td>\n",
              "      <td>[Gluten Free White Cheddar Popped Corn Chips]</td>\n",
              "      <td>{23}</td>\n",
              "      <td>{19}</td>\n",
              "      <td>[popcornjerky]</td>\n",
              "      <td>[snacks]</td>\n",
              "      <td>[Gluten Free White Cheddar Popped Corn Chips]</td>\n",
              "    </tr>\n",
              "  </tbody>\n",
              "</table>\n",
              "</div>"
            ],
            "text/plain": [
              "       product_id                                           order_id  \\\n",
              "638           788  {145667, 2246795, 1065614, 271759, 1371920, 24...   \n",
              "1527         1937         {41125, 2563763, 3265235, 1240090, 607709}   \n",
              "32189       40864  {1073700, 1515759, 2911123, 433013, 1752120, 4...   \n",
              "\n",
              "                                       add_to_cart_order reordered  \\\n",
              "638    {1, 2, 3, 4, 5, 6, 7, 8, 9, 10, 11, 16, 18, 26...    {0, 1}   \n",
              "1527                                  {4, 7, 11, 13, 18}       {0}   \n",
              "32189                               {2, 34, 4, 5, 8, 10}    {0, 1}   \n",
              "\n",
              "                                        product_name aisle_id department_id  \\\n",
              "638                 [XXX Acai Blueberry Pomegranate]     {64}           {7}   \n",
              "1527                         [Red Velvet Cake Slice]      {8}           {3}   \n",
              "32189  [Gluten Free White Cheddar Popped Corn Chips]     {23}          {19}   \n",
              "\n",
              "                      aisle   department  \\\n",
              "638    [energysportsdrinks]  [beverages]   \n",
              "1527       [bakerydesserts]     [bakery]   \n",
              "32189        [popcornjerky]     [snacks]   \n",
              "\n",
              "                                         Description  \n",
              "638                 [XXX Acai Blueberry Pomegranate]  \n",
              "1527                         [Red Velvet Cake Slice]  \n",
              "32189  [Gluten Free White Cheddar Popped Corn Chips]  "
            ]
          },
          "execution_count": 21,
          "metadata": {},
          "output_type": "execute_result"
        }
      ],
      "source": [
        "df_meta.sample(3)"
      ]
    },
    {
      "cell_type": "code",
      "execution_count": 22,
      "metadata": {
        "id": "hhU0n_o2EU52"
      },
      "outputs": [],
      "source": [
        "main_df= df_meta.loc[:,['product_id','product_name','aisle','department','Description']]"
      ]
    },
    {
      "cell_type": "code",
      "execution_count": 23,
      "metadata": {},
      "outputs": [
        {
          "data": {
            "text/plain": [
              "(39123, 5)"
            ]
          },
          "execution_count": 23,
          "metadata": {},
          "output_type": "execute_result"
        }
      ],
      "source": [
        "main_df.shape"
      ]
    },
    {
      "cell_type": "code",
      "execution_count": 24,
      "metadata": {},
      "outputs": [
        {
          "data": {
            "text/plain": [
              "department\n",
              "[snacks]           5020\n",
              "[personalcare]     4314\n",
              "[pantry]           4107\n",
              "[beverages]        3526\n",
              "[frozen]           3414\n",
              "[dairyeggs]        3033\n",
              "[household]        2327\n",
              "[cannedgoods]      1715\n",
              "[produce]          1533\n",
              "[drygoodspasta]    1526\n",
              "[bakery]           1313\n",
              "[deli]             1119\n",
              "[breakfast]         932\n",
              "[missing]           905\n",
              "[international]     883\n",
              "[babies]            869\n",
              "[meatseafood]       777\n",
              "[pets]              755\n",
              "[alcohol]           647\n",
              "[other]             373\n",
              "[bulk]               35\n",
              "Name: count, dtype: int64"
            ]
          },
          "execution_count": 24,
          "metadata": {},
          "output_type": "execute_result"
        }
      ],
      "source": [
        "main_df['department'].value_counts()"
      ]
    },
    {
      "cell_type": "code",
      "execution_count": 25,
      "metadata": {},
      "outputs": [],
      "source": [
        "# Calculate the value counts of the departments\n",
        "department_counts = main_df['department'].value_counts()\n",
        "\n",
        "# Find the departments that appear more than 1000 times\n",
        "departments_over_1000 = department_counts[department_counts > 2000].index\n",
        "\n",
        "# Filter the main_df to only include rows with these departments\n",
        "main_df = main_df[main_df['department'].isin(departments_over_1000)]\n"
      ]
    },
    {
      "cell_type": "code",
      "execution_count": 26,
      "metadata": {},
      "outputs": [
        {
          "data": {
            "text/plain": [
              "(25741, 5)"
            ]
          },
          "execution_count": 26,
          "metadata": {},
          "output_type": "execute_result"
        }
      ],
      "source": [
        "main_df.shape"
      ]
    },
    {
      "cell_type": "code",
      "execution_count": 27,
      "metadata": {},
      "outputs": [],
      "source": [
        "main_df = main_df.reset_index(drop=True)\n"
      ]
    },
    {
      "cell_type": "markdown",
      "metadata": {},
      "source": [
        "# Preprocessing\n"
      ]
    },
    {
      "cell_type": "code",
      "execution_count": 28,
      "metadata": {},
      "outputs": [],
      "source": [
        "import nltk\n",
        "from nltk.corpus import stopwords\n",
        "from nltk.stem.porter import PorterStemmer\n",
        "ps= PorterStemmer() \n"
      ]
    },
    {
      "cell_type": "code",
      "execution_count": 29,
      "metadata": {},
      "outputs": [
        {
          "name": "stderr",
          "output_type": "stream",
          "text": [
            "[nltk_data] Downloading package stopwords to\n",
            "[nltk_data]     C:\\Users\\anish\\AppData\\Roaming\\nltk_data...\n",
            "[nltk_data]   Package stopwords is already up-to-date!\n",
            "[nltk_data] Downloading package punkt to\n",
            "[nltk_data]     C:\\Users\\anish\\AppData\\Roaming\\nltk_data...\n",
            "[nltk_data]   Package punkt is already up-to-date!\n"
          ]
        },
        {
          "data": {
            "text/plain": [
              "True"
            ]
          },
          "execution_count": 29,
          "metadata": {},
          "output_type": "execute_result"
        }
      ],
      "source": [
        "nltk.download('stopwords')\n",
        "nltk.download('punkt')"
      ]
    },
    {
      "cell_type": "code",
      "execution_count": 30,
      "metadata": {},
      "outputs": [
        {
          "name": "stdout",
          "output_type": "stream",
          "text": [
            "<class 'pandas.core.frame.DataFrame'>\n",
            "RangeIndex: 25741 entries, 0 to 25740\n",
            "Data columns (total 5 columns):\n",
            " #   Column        Non-Null Count  Dtype \n",
            "---  ------        --------------  ----- \n",
            " 0   product_id    25741 non-null  int64 \n",
            " 1   product_name  25741 non-null  object\n",
            " 2   aisle         25741 non-null  object\n",
            " 3   department    25741 non-null  object\n",
            " 4   Description   25741 non-null  object\n",
            "dtypes: int64(1), object(4)\n",
            "memory usage: 1005.6+ KB\n"
          ]
        }
      ],
      "source": [
        "main_df.info()"
      ]
    },
    {
      "cell_type": "code",
      "execution_count": 31,
      "metadata": {},
      "outputs": [
        {
          "data": {
            "text/plain": [
              "'!\"#$%&\\'()*+,-./:;<=>?@[\\\\]^_`{|}~'"
            ]
          },
          "execution_count": 31,
          "metadata": {},
          "output_type": "execute_result"
        }
      ],
      "source": [
        "import string\n",
        "string.punctuation"
      ]
    },
    {
      "cell_type": "code",
      "execution_count": 32,
      "metadata": {},
      "outputs": [],
      "source": [
        "# Function to do all the data preprocessing\n",
        "def transform_text(text):\n",
        "\n",
        "  #COnverting to lower case\n",
        "  text = text.lower()\n",
        "  \n",
        "  #Tokenisation\n",
        "  text = nltk.word_tokenize(text)\n",
        "\n",
        "  #Removing Special Characters\n",
        "  y=[]\n",
        "  for i in text:\n",
        "    if i.isalnum():\n",
        "      y.append(i)\n",
        "\n",
        "  text=y[:]\n",
        "  y.clear()\n",
        "\n",
        "  #Removing Stop words\n",
        "  for i in text:\n",
        "    if i not in stopwords.words('english') and i not in string.punctuation:\n",
        "      y.append(i)\n",
        "\n",
        "  text = y[:]\n",
        "  y.clear()\n",
        "\n",
        "  #Stemming\n",
        "  for i in text:\n",
        "    y.append(ps.stem(i))\n",
        "\n",
        "  return \" \".join(y)"
      ]
    },
    {
      "cell_type": "code",
      "execution_count": 33,
      "metadata": {},
      "outputs": [
        {
          "data": {
            "text/plain": [
              "'can meat 25 less sodium'"
            ]
          },
          "execution_count": 33,
          "metadata": {},
          "output_type": "execute_result"
        }
      ],
      "source": [
        "transform_text('Canned Meat 25% Less Sodium')"
      ]
    },
    {
      "cell_type": "code",
      "execution_count": 34,
      "metadata": {},
      "outputs": [],
      "source": [
        "main_df['Description'] = main_df['Description'].apply(lambda x: x[0])\n",
        "main_df['product_name'] = main_df['product_name'].apply(lambda x: x[0])\n",
        "main_df['aisle'] = main_df['aisle'].apply(lambda x: x[0])\n",
        "main_df['department'] = main_df['department'].apply(lambda x: x[0])"
      ]
    },
    {
      "cell_type": "code",
      "execution_count": 35,
      "metadata": {},
      "outputs": [
        {
          "data": {
            "text/plain": [
              "5965                                Almond Crunch Meal Bar\n",
              "19665                          Original Smoked Snack Stick\n",
              "25589          Watermelon Raspberry Flavored Coconut Water\n",
              "2446                               Queso Blanco Medium Dip\n",
              "4067                      Light Greek Vinaigrette Dressing\n",
              "19811                        Pizza, Margherita, Rice Crust\n",
              "8480                      Sweetened Condensed Coconut Milk\n",
              "24064    Chocolate Chip Cookie Dough Frozen Greek Yogur...\n",
              "21858                                    Swedish Meatballs\n",
              "5463                Orange Flavor Chewable Aspirin Tablets\n",
              "Name: Description, dtype: object"
            ]
          },
          "execution_count": 35,
          "metadata": {},
          "output_type": "execute_result"
        }
      ],
      "source": [
        "main_df.sample(10)['Description']"
      ]
    },
    {
      "cell_type": "code",
      "execution_count": 36,
      "metadata": {},
      "outputs": [
        {
          "data": {
            "text/html": [
              "<div>\n",
              "<style scoped>\n",
              "    .dataframe tbody tr th:only-of-type {\n",
              "        vertical-align: middle;\n",
              "    }\n",
              "\n",
              "    .dataframe tbody tr th {\n",
              "        vertical-align: top;\n",
              "    }\n",
              "\n",
              "    .dataframe thead th {\n",
              "        text-align: right;\n",
              "    }\n",
              "</style>\n",
              "<table border=\"1\" class=\"dataframe\">\n",
              "  <thead>\n",
              "    <tr style=\"text-align: right;\">\n",
              "      <th></th>\n",
              "      <th>product_id</th>\n",
              "      <th>product_name</th>\n",
              "      <th>aisle</th>\n",
              "      <th>department</th>\n",
              "      <th>Description</th>\n",
              "    </tr>\n",
              "  </thead>\n",
              "  <tbody>\n",
              "    <tr>\n",
              "      <th>0</th>\n",
              "      <td>1</td>\n",
              "      <td>Chocolate Sandwich Cookies</td>\n",
              "      <td>cookiescakes</td>\n",
              "      <td>snacks</td>\n",
              "      <td>Chocolate Sandwich Cookies</td>\n",
              "    </tr>\n",
              "    <tr>\n",
              "      <th>1</th>\n",
              "      <td>2</td>\n",
              "      <td>All-Seasons Salt</td>\n",
              "      <td>spicesseasonings</td>\n",
              "      <td>pantry</td>\n",
              "      <td>All-Seasons Salt</td>\n",
              "    </tr>\n",
              "    <tr>\n",
              "      <th>2</th>\n",
              "      <td>3</td>\n",
              "      <td>Robust Golden Unsweetened Oolong Tea</td>\n",
              "      <td>tea</td>\n",
              "      <td>beverages</td>\n",
              "      <td>Robust Golden Unsweetened Oolong Tea</td>\n",
              "    </tr>\n",
              "    <tr>\n",
              "      <th>3</th>\n",
              "      <td>4</td>\n",
              "      <td>Smart Ones Classic Favorites Mini Rigatoni Wit...</td>\n",
              "      <td>frozenmeals</td>\n",
              "      <td>frozen</td>\n",
              "      <td>Smart Ones Classic Favorites Mini Rigatoni Wit...</td>\n",
              "    </tr>\n",
              "    <tr>\n",
              "      <th>4</th>\n",
              "      <td>5</td>\n",
              "      <td>Green Chile Anytime Sauce</td>\n",
              "      <td>marinadesmeatpreparation</td>\n",
              "      <td>pantry</td>\n",
              "      <td>Green Chile Anytime Sauce</td>\n",
              "    </tr>\n",
              "  </tbody>\n",
              "</table>\n",
              "</div>"
            ],
            "text/plain": [
              "   product_id                                       product_name  \\\n",
              "0           1                         Chocolate Sandwich Cookies   \n",
              "1           2                                   All-Seasons Salt   \n",
              "2           3               Robust Golden Unsweetened Oolong Tea   \n",
              "3           4  Smart Ones Classic Favorites Mini Rigatoni Wit...   \n",
              "4           5                          Green Chile Anytime Sauce   \n",
              "\n",
              "                      aisle department  \\\n",
              "0              cookiescakes     snacks   \n",
              "1          spicesseasonings     pantry   \n",
              "2                       tea  beverages   \n",
              "3               frozenmeals     frozen   \n",
              "4  marinadesmeatpreparation     pantry   \n",
              "\n",
              "                                         Description  \n",
              "0                         Chocolate Sandwich Cookies  \n",
              "1                                   All-Seasons Salt  \n",
              "2               Robust Golden Unsweetened Oolong Tea  \n",
              "3  Smart Ones Classic Favorites Mini Rigatoni Wit...  \n",
              "4                          Green Chile Anytime Sauce  "
            ]
          },
          "execution_count": 36,
          "metadata": {},
          "output_type": "execute_result"
        }
      ],
      "source": [
        "main_df.head()"
      ]
    },
    {
      "cell_type": "code",
      "execution_count": 37,
      "metadata": {},
      "outputs": [],
      "source": [
        "main_df['Description']=main_df['Description'].apply(transform_text)"
      ]
    },
    {
      "cell_type": "code",
      "execution_count": 38,
      "metadata": {},
      "outputs": [
        {
          "data": {
            "text/html": [
              "<div>\n",
              "<style scoped>\n",
              "    .dataframe tbody tr th:only-of-type {\n",
              "        vertical-align: middle;\n",
              "    }\n",
              "\n",
              "    .dataframe tbody tr th {\n",
              "        vertical-align: top;\n",
              "    }\n",
              "\n",
              "    .dataframe thead th {\n",
              "        text-align: right;\n",
              "    }\n",
              "</style>\n",
              "<table border=\"1\" class=\"dataframe\">\n",
              "  <thead>\n",
              "    <tr style=\"text-align: right;\">\n",
              "      <th></th>\n",
              "      <th>product_id</th>\n",
              "      <th>product_name</th>\n",
              "      <th>aisle</th>\n",
              "      <th>department</th>\n",
              "      <th>Description</th>\n",
              "    </tr>\n",
              "  </thead>\n",
              "  <tbody>\n",
              "    <tr>\n",
              "      <th>0</th>\n",
              "      <td>1</td>\n",
              "      <td>Chocolate Sandwich Cookies</td>\n",
              "      <td>cookiescakes</td>\n",
              "      <td>snacks</td>\n",
              "      <td>chocol sandwich cooki</td>\n",
              "    </tr>\n",
              "    <tr>\n",
              "      <th>1</th>\n",
              "      <td>2</td>\n",
              "      <td>All-Seasons Salt</td>\n",
              "      <td>spicesseasonings</td>\n",
              "      <td>pantry</td>\n",
              "      <td>salt</td>\n",
              "    </tr>\n",
              "    <tr>\n",
              "      <th>2</th>\n",
              "      <td>3</td>\n",
              "      <td>Robust Golden Unsweetened Oolong Tea</td>\n",
              "      <td>tea</td>\n",
              "      <td>beverages</td>\n",
              "      <td>robust golden unsweeten oolong tea</td>\n",
              "    </tr>\n",
              "    <tr>\n",
              "      <th>3</th>\n",
              "      <td>4</td>\n",
              "      <td>Smart Ones Classic Favorites Mini Rigatoni Wit...</td>\n",
              "      <td>frozenmeals</td>\n",
              "      <td>frozen</td>\n",
              "      <td>smart one classic favorit mini rigatoni vodka ...</td>\n",
              "    </tr>\n",
              "    <tr>\n",
              "      <th>4</th>\n",
              "      <td>5</td>\n",
              "      <td>Green Chile Anytime Sauce</td>\n",
              "      <td>marinadesmeatpreparation</td>\n",
              "      <td>pantry</td>\n",
              "      <td>green chile anytim sauc</td>\n",
              "    </tr>\n",
              "  </tbody>\n",
              "</table>\n",
              "</div>"
            ],
            "text/plain": [
              "   product_id                                       product_name  \\\n",
              "0           1                         Chocolate Sandwich Cookies   \n",
              "1           2                                   All-Seasons Salt   \n",
              "2           3               Robust Golden Unsweetened Oolong Tea   \n",
              "3           4  Smart Ones Classic Favorites Mini Rigatoni Wit...   \n",
              "4           5                          Green Chile Anytime Sauce   \n",
              "\n",
              "                      aisle department  \\\n",
              "0              cookiescakes     snacks   \n",
              "1          spicesseasonings     pantry   \n",
              "2                       tea  beverages   \n",
              "3               frozenmeals     frozen   \n",
              "4  marinadesmeatpreparation     pantry   \n",
              "\n",
              "                                         Description  \n",
              "0                              chocol sandwich cooki  \n",
              "1                                               salt  \n",
              "2                 robust golden unsweeten oolong tea  \n",
              "3  smart one classic favorit mini rigatoni vodka ...  \n",
              "4                            green chile anytim sauc  "
            ]
          },
          "execution_count": 38,
          "metadata": {},
          "output_type": "execute_result"
        }
      ],
      "source": [
        "main_df.head()"
      ]
    },
    {
      "cell_type": "code",
      "execution_count": 39,
      "metadata": {},
      "outputs": [],
      "source": [
        "main_df['Tags']=main_df['department']+' '+main_df['aisle']+' '+main_df['Description']\n",
        "#df_meta2['Tags'] = df_meta2.apply(lambda x : ' ' + ' '.join(x['aisle']) + ' ' + ' '.join(x['department'])+' ' + ' '.join(x['product_name']), axis = 1)\n",
        "\n"
      ]
    },
    {
      "cell_type": "code",
      "execution_count": 40,
      "metadata": {},
      "outputs": [],
      "source": [
        "main_df=main_df[['product_id','product_name','Tags']]"
      ]
    },
    {
      "cell_type": "code",
      "execution_count": 41,
      "metadata": {},
      "outputs": [
        {
          "data": {
            "text/html": [
              "<div>\n",
              "<style scoped>\n",
              "    .dataframe tbody tr th:only-of-type {\n",
              "        vertical-align: middle;\n",
              "    }\n",
              "\n",
              "    .dataframe tbody tr th {\n",
              "        vertical-align: top;\n",
              "    }\n",
              "\n",
              "    .dataframe thead th {\n",
              "        text-align: right;\n",
              "    }\n",
              "</style>\n",
              "<table border=\"1\" class=\"dataframe\">\n",
              "  <thead>\n",
              "    <tr style=\"text-align: right;\">\n",
              "      <th></th>\n",
              "      <th>product_id</th>\n",
              "      <th>product_name</th>\n",
              "      <th>Tags</th>\n",
              "    </tr>\n",
              "  </thead>\n",
              "  <tbody>\n",
              "    <tr>\n",
              "      <th>0</th>\n",
              "      <td>1</td>\n",
              "      <td>Chocolate Sandwich Cookies</td>\n",
              "      <td>snacks cookiescakes chocol sandwich cooki</td>\n",
              "    </tr>\n",
              "    <tr>\n",
              "      <th>1</th>\n",
              "      <td>2</td>\n",
              "      <td>All-Seasons Salt</td>\n",
              "      <td>pantry spicesseasonings salt</td>\n",
              "    </tr>\n",
              "    <tr>\n",
              "      <th>2</th>\n",
              "      <td>3</td>\n",
              "      <td>Robust Golden Unsweetened Oolong Tea</td>\n",
              "      <td>beverages tea robust golden unsweeten oolong tea</td>\n",
              "    </tr>\n",
              "  </tbody>\n",
              "</table>\n",
              "</div>"
            ],
            "text/plain": [
              "   product_id                          product_name  \\\n",
              "0           1            Chocolate Sandwich Cookies   \n",
              "1           2                      All-Seasons Salt   \n",
              "2           3  Robust Golden Unsweetened Oolong Tea   \n",
              "\n",
              "                                               Tags  \n",
              "0         snacks cookiescakes chocol sandwich cooki  \n",
              "1                      pantry spicesseasonings salt  \n",
              "2  beverages tea robust golden unsweeten oolong tea  "
            ]
          },
          "execution_count": 41,
          "metadata": {},
          "output_type": "execute_result"
        }
      ],
      "source": [
        "main_df.head(3)"
      ]
    },
    {
      "cell_type": "code",
      "execution_count": 42,
      "metadata": {},
      "outputs": [
        {
          "data": {
            "text/html": [
              "<div>\n",
              "<style scoped>\n",
              "    .dataframe tbody tr th:only-of-type {\n",
              "        vertical-align: middle;\n",
              "    }\n",
              "\n",
              "    .dataframe tbody tr th {\n",
              "        vertical-align: top;\n",
              "    }\n",
              "\n",
              "    .dataframe thead th {\n",
              "        text-align: right;\n",
              "    }\n",
              "</style>\n",
              "<table border=\"1\" class=\"dataframe\">\n",
              "  <thead>\n",
              "    <tr style=\"text-align: right;\">\n",
              "      <th></th>\n",
              "      <th>product_id</th>\n",
              "      <th>product_name</th>\n",
              "      <th>Tags</th>\n",
              "    </tr>\n",
              "  </thead>\n",
              "  <tbody>\n",
              "    <tr>\n",
              "      <th>24250</th>\n",
              "      <td>46815</td>\n",
              "      <td>Ultimate Omega 1280mg omega-3</td>\n",
              "      <td>personalcare vitaminssupplements ultim omega 1...</td>\n",
              "    </tr>\n",
              "    <tr>\n",
              "      <th>10993</th>\n",
              "      <td>21223</td>\n",
              "      <td>Nesquik Strawberry Milk Drink Mix</td>\n",
              "      <td>beverages cocoadrinkmixes nesquik strawberri m...</td>\n",
              "    </tr>\n",
              "    <tr>\n",
              "      <th>12945</th>\n",
              "      <td>25027</td>\n",
              "      <td>Super Shiny Mango Conditioner</td>\n",
              "      <td>personalcare haircare super shini mango condition</td>\n",
              "    </tr>\n",
              "  </tbody>\n",
              "</table>\n",
              "</div>"
            ],
            "text/plain": [
              "       product_id                       product_name  \\\n",
              "24250       46815      Ultimate Omega 1280mg omega-3   \n",
              "10993       21223  Nesquik Strawberry Milk Drink Mix   \n",
              "12945       25027      Super Shiny Mango Conditioner   \n",
              "\n",
              "                                                    Tags  \n",
              "24250  personalcare vitaminssupplements ultim omega 1...  \n",
              "10993  beverages cocoadrinkmixes nesquik strawberri m...  \n",
              "12945  personalcare haircare super shini mango condition  "
            ]
          },
          "execution_count": 42,
          "metadata": {},
          "output_type": "execute_result"
        }
      ],
      "source": [
        "main_df.sample(3)"
      ]
    },
    {
      "cell_type": "markdown",
      "metadata": {},
      "source": [
        "### Sampling Only 30,000 Products due to constant Memory error"
      ]
    },
    {
      "cell_type": "code",
      "execution_count": 43,
      "metadata": {},
      "outputs": [],
      "source": [
        "#main_df= main_df.sample(30000)"
      ]
    },
    {
      "cell_type": "markdown",
      "metadata": {},
      "source": [
        "# Vectorizing"
      ]
    },
    {
      "cell_type": "code",
      "execution_count": 44,
      "metadata": {
        "id": "pe_ueBH-I0Mq"
      },
      "outputs": [],
      "source": [
        "from sklearn.metrics.pairwise import cosine_similarity\n",
        "from sklearn.feature_extraction.text import CountVectorizer"
      ]
    },
    {
      "cell_type": "code",
      "execution_count": 45,
      "metadata": {
        "id": "3XcMf-j8IcRr"
      },
      "outputs": [],
      "source": [
        "count_vec = CountVectorizer()"
      ]
    },
    {
      "cell_type": "code",
      "execution_count": 46,
      "metadata": {
        "id": "aKSv1HdnJBDl"
      },
      "outputs": [],
      "source": [
        "count_vec_matrix = count_vec.fit_transform(main_df['Tags']).toarray()"
      ]
    },
    {
      "cell_type": "code",
      "execution_count": 47,
      "metadata": {
        "colab": {
          "base_uri": "https://localhost:8080/"
        },
        "id": "mMvb2vyXNtZ_",
        "outputId": "0efa0483-f9fb-43b3-ad1b-c3778293feff"
      },
      "outputs": [
        {
          "data": {
            "text/plain": [
              "array(['00', '003', '004', ..., 'zyme', 'zzz', 'zzzquil'], dtype=object)"
            ]
          },
          "execution_count": 47,
          "metadata": {},
          "output_type": "execute_result"
        }
      ],
      "source": [
        "count_vec.get_feature_names_out()"
      ]
    },
    {
      "cell_type": "code",
      "execution_count": 48,
      "metadata": {
        "colab": {
          "base_uri": "https://localhost:8080/"
        },
        "id": "eDQ2hicOJSDV",
        "outputId": "74b2d436-988b-4e5b-8c7f-abb62d8aea80"
      },
      "outputs": [
        {
          "data": {
            "text/plain": [
              "(25741, 5899)"
            ]
          },
          "execution_count": 48,
          "metadata": {},
          "output_type": "execute_result"
        }
      ],
      "source": [
        "count_vec_matrix.shape"
      ]
    },
    {
      "cell_type": "code",
      "execution_count": 49,
      "metadata": {
        "colab": {
          "base_uri": "https://localhost:8080/"
        },
        "id": "dvjW_N3zJYjs",
        "outputId": "005f8dab-e2b5-4329-ba4a-8d979ba11afe"
      },
      "outputs": [
        {
          "data": {
            "text/plain": [
              "array([0, 0, 0, ..., 0, 0, 0], dtype=int64)"
            ]
          },
          "execution_count": 49,
          "metadata": {},
          "output_type": "execute_result"
        }
      ],
      "source": [
        "count_vec_matrix[9]"
      ]
    },
    {
      "cell_type": "code",
      "execution_count": 50,
      "metadata": {
        "id": "8cmKx2DIJnB0"
      },
      "outputs": [],
      "source": [
        "similarity = cosine_similarity(count_vec_matrix)"
      ]
    },
    {
      "cell_type": "code",
      "execution_count": 51,
      "metadata": {},
      "outputs": [
        {
          "data": {
            "text/plain": [
              "(25741, 25741)"
            ]
          },
          "execution_count": 51,
          "metadata": {},
          "output_type": "execute_result"
        }
      ],
      "source": [
        "similarity.shape"
      ]
    },
    {
      "cell_type": "code",
      "execution_count": 52,
      "metadata": {
        "colab": {
          "base_uri": "https://localhost:8080/"
        },
        "id": "oHMmQsoTNnLH",
        "outputId": "39b7e427-6ef0-4c67-d900-e7a5e7c7eb04"
      },
      "outputs": [
        {
          "data": {
            "text/plain": [
              "array([0.18257419, 0.        , 0.        , ..., 0.16666667, 0.        ,\n",
              "       0.        ])"
            ]
          },
          "execution_count": 52,
          "metadata": {},
          "output_type": "execute_result"
        }
      ],
      "source": [
        "similarity[10]"
      ]
    },
    {
      "cell_type": "code",
      "execution_count": 53,
      "metadata": {},
      "outputs": [
        {
          "data": {
            "text/plain": [
              "[(12, 1.0000000000000002),\n",
              " (19420, 0.8660254037844387),\n",
              " (1446, 0.8333333333333336),\n",
              " (13747, 0.8333333333333336),\n",
              " (15140, 0.8333333333333336),\n",
              " (16944, 0.8333333333333336),\n",
              " (11833, 0.8164965809277261),\n",
              " (94, 0.7715167498104596),\n",
              " (5763, 0.7715167498104596),\n",
              " (22853, 0.7715167498104596),\n",
              " (9881, 0.7216878364870323),\n",
              " (16579, 0.7216878364870323),\n",
              " (18911, 0.7216878364870323),\n",
              " (3158, 0.6666666666666669),\n",
              " (10430, 0.6666666666666669),\n",
              " (10671, 0.6666666666666669),\n",
              " (8271, 0.6454972243679029),\n",
              " (16689, 0.6454972243679029),\n",
              " (2021, 0.6172133998483676),\n",
              " (2201, 0.6172133998483676),\n",
              " (2487, 0.6172133998483676),\n",
              " (4016, 0.6172133998483676),\n",
              " (5039, 0.6172133998483676),\n",
              " (18461, 0.6172133998483676),\n",
              " (21501, 0.6172133998483676),\n",
              " (23567, 0.6172133998483676),\n",
              " (24138, 0.6172133998483676),\n",
              " (24174, 0.6172133998483676),\n",
              " (25694, 0.6172133998483676),\n",
              " (8631, 0.6123724356957946),\n",
              " (16226, 0.6123724356957946),\n",
              " (291, 0.5892556509887897),\n",
              " (991, 0.5773502691896258),\n",
              " (8144, 0.5773502691896258),\n",
              " (14464, 0.5773502691896258),\n",
              " (17729, 0.5773502691896258),\n",
              " (21143, 0.5773502691896258),\n",
              " (22860, 0.5773502691896258),\n",
              " (1672, 0.5477225575051662),\n",
              " (2598, 0.5477225575051662),\n",
              " (4123, 0.5477225575051662),\n",
              " (11460, 0.5477225575051662),\n",
              " (18190, 0.5477225575051662),\n",
              " (19629, 0.545544725589981),\n",
              " (2489, 0.5443310539518174),\n",
              " (6026, 0.5443310539518174),\n",
              " (18072, 0.5443310539518174),\n",
              " (20919, 0.5443310539518174),\n",
              " (704, 0.5163977794943223),\n",
              " (5972, 0.5163977794943223),\n",
              " (6767, 0.5163977794943223),\n",
              " (9688, 0.5163977794943223),\n",
              " (22711, 0.5163977794943223),\n",
              " (3699, 0.5000000000000001),\n",
              " (4138, 0.5000000000000001),\n",
              " (4610, 0.5000000000000001),\n",
              " (7116, 0.5000000000000001),\n",
              " (7476, 0.5000000000000001),\n",
              " (7490, 0.5000000000000001),\n",
              " (7846, 0.5000000000000001),\n",
              " (8964, 0.5000000000000001),\n",
              " (10342, 0.5000000000000001),\n",
              " (10674, 0.5000000000000001),\n",
              " (12917, 0.5000000000000001),\n",
              " (14338, 0.5000000000000001),\n",
              " (14563, 0.5000000000000001),\n",
              " (15180, 0.5000000000000001),\n",
              " (15326, 0.5000000000000001),\n",
              " (15920, 0.5000000000000001),\n",
              " (17041, 0.5000000000000001),\n",
              " (17223, 0.5000000000000001),\n",
              " (17237, 0.5000000000000001),\n",
              " (19648, 0.5000000000000001),\n",
              " (19854, 0.5000000000000001),\n",
              " (19971, 0.5000000000000001),\n",
              " (20167, 0.5000000000000001),\n",
              " (20227, 0.5000000000000001),\n",
              " (21393, 0.5000000000000001),\n",
              " (23888, 0.5000000000000001),\n",
              " (25163, 0.5000000000000001),\n",
              " (25504, 0.5000000000000001),\n",
              " (15942, 0.4714045207910318),\n",
              " (21887, 0.4714045207910318),\n",
              " (21993, 0.4714045207910318),\n",
              " (390, 0.4629100498862757),\n",
              " (2186, 0.4629100498862757),\n",
              " (2562, 0.4629100498862757),\n",
              " (3098, 0.4629100498862757),\n",
              " (3201, 0.4629100498862757),\n",
              " (3236, 0.4629100498862757),\n",
              " (3479, 0.4629100498862757),\n",
              " (4008, 0.4629100498862757),\n",
              " (4380, 0.4629100498862757),\n",
              " (7493, 0.4629100498862757),\n",
              " (7923, 0.4629100498862757),\n",
              " (8337, 0.4629100498862757),\n",
              " (8741, 0.4629100498862757),\n",
              " (9084, 0.4629100498862757),\n",
              " (9838, 0.4629100498862757),\n",
              " (9974, 0.4629100498862757),\n",
              " (10463, 0.4629100498862757),\n",
              " (11574, 0.4629100498862757),\n",
              " (11626, 0.4629100498862757),\n",
              " (11738, 0.4629100498862757),\n",
              " (11969, 0.4629100498862757),\n",
              " (13027, 0.4629100498862757),\n",
              " (13028, 0.4629100498862757),\n",
              " (13689, 0.4629100498862757),\n",
              " (13834, 0.4629100498862757),\n",
              " (14616, 0.4629100498862757),\n",
              " (14628, 0.4629100498862757),\n",
              " (14682, 0.4629100498862757),\n",
              " (15245, 0.4629100498862757),\n",
              " (16191, 0.4629100498862757),\n",
              " (17049, 0.4629100498862757),\n",
              " (17748, 0.4629100498862757),\n",
              " (18005, 0.4629100498862757),\n",
              " (19082, 0.4629100498862757),\n",
              " (19099, 0.4629100498862757),\n",
              " (19122, 0.4629100498862757),\n",
              " (19710, 0.4629100498862757),\n",
              " (20064, 0.4629100498862757),\n",
              " (20378, 0.4629100498862757),\n",
              " (20499, 0.4629100498862757),\n",
              " (21530, 0.4629100498862757),\n",
              " (23550, 0.4629100498862757),\n",
              " (24365, 0.4629100498862757),\n",
              " (24546, 0.4629100498862757),\n",
              " (22412, 0.45291081365783836),\n",
              " (16393, 0.43643578047198484),\n",
              " (665, 0.4330127018922194),\n",
              " (692, 0.4330127018922194),\n",
              " (2217, 0.4330127018922194),\n",
              " (5105, 0.4330127018922194),\n",
              " (6274, 0.4330127018922194),\n",
              " (6558, 0.4330127018922194),\n",
              " (7039, 0.4330127018922194),\n",
              " (7558, 0.4330127018922194),\n",
              " (7683, 0.4330127018922194),\n",
              " (8763, 0.4330127018922194),\n",
              " (8788, 0.4330127018922194),\n",
              " (10452, 0.4330127018922194),\n",
              " (11884, 0.4330127018922194),\n",
              " (12632, 0.4330127018922194),\n",
              " (14149, 0.4330127018922194),\n",
              " (15152, 0.4330127018922194),\n",
              " (15572, 0.4330127018922194),\n",
              " (15803, 0.4330127018922194),\n",
              " (17559, 0.4330127018922194),\n",
              " (19414, 0.4330127018922194),\n",
              " (20680, 0.4330127018922194),\n",
              " (20957, 0.4330127018922194),\n",
              " (21083, 0.4330127018922194),\n",
              " (21252, 0.4330127018922194),\n",
              " (23092, 0.4330127018922194),\n",
              " (23586, 0.4330127018922194),\n",
              " (23954, 0.4330127018922194),\n",
              " (24107, 0.4330127018922194),\n",
              " (24451, 0.4330127018922194),\n",
              " (24697, 0.4330127018922194),\n",
              " (25721, 0.4330127018922194),\n",
              " (23300, 0.4216370213557839),\n",
              " (666, 0.4082482904638631),\n",
              " (2285, 0.4082482904638631),\n",
              " (3266, 0.4082482904638631),\n",
              " (6119, 0.4082482904638631),\n",
              " (7578, 0.4082482904638631),\n",
              " (7628, 0.4082482904638631),\n",
              " (7894, 0.4082482904638631),\n",
              " (8573, 0.4082482904638631),\n",
              " (11317, 0.4082482904638631),\n",
              " (13123, 0.4082482904638631),\n",
              " (15445, 0.4082482904638631),\n",
              " (16271, 0.4082482904638631),\n",
              " (16451, 0.4082482904638631),\n",
              " (17680, 0.4082482904638631),\n",
              " (17811, 0.4082482904638631),\n",
              " (18273, 0.4082482904638631),\n",
              " (18658, 0.4082482904638631),\n",
              " (23538, 0.4082482904638631),\n",
              " (24017, 0.4082482904638631),\n",
              " (24584, 0.4082482904638631),\n",
              " (25136, 0.4082482904638631),\n",
              " (989, 0.408248290463863),\n",
              " (2139, 0.408248290463863),\n",
              " (3913, 0.408248290463863),\n",
              " (6280, 0.408248290463863),\n",
              " (7236, 0.408248290463863),\n",
              " (9476, 0.408248290463863),\n",
              " (9493, 0.408248290463863),\n",
              " (10281, 0.408248290463863),\n",
              " (10967, 0.408248290463863),\n",
              " (11335, 0.408248290463863),\n",
              " (12119, 0.408248290463863),\n",
              " (12810, 0.408248290463863),\n",
              " (15184, 0.408248290463863),\n",
              " (15811, 0.408248290463863),\n",
              " (16901, 0.408248290463863),\n",
              " (17535, 0.408248290463863),\n",
              " (17648, 0.408248290463863),\n",
              " (17947, 0.408248290463863),\n",
              " (22149, 0.408248290463863),\n",
              " (201, 0.3872983346207417),\n",
              " (812, 0.3872983346207417),\n",
              " (1801, 0.3872983346207417),\n",
              " (2735, 0.3872983346207417),\n",
              " (4267, 0.3872983346207417),\n",
              " (7524, 0.3872983346207417),\n",
              " (13851, 0.3872983346207417),\n",
              " (14589, 0.3872983346207417),\n",
              " (16071, 0.3872983346207417),\n",
              " (17601, 0.3872983346207417),\n",
              " (19179, 0.3872983346207417),\n",
              " (19376, 0.3872983346207417),\n",
              " (20224, 0.3872983346207417),\n",
              " (22939, 0.3872983346207417),\n",
              " (25277, 0.3872983346207417),\n",
              " (382, 0.36927447293799825),\n",
              " (544, 0.36927447293799825),\n",
              " (1193, 0.36927447293799825),\n",
              " (5798, 0.36927447293799825),\n",
              " (9045, 0.36927447293799825),\n",
              " (10749, 0.36927447293799825),\n",
              " (12574, 0.36927447293799825),\n",
              " (14193, 0.36927447293799825),\n",
              " (14713, 0.36927447293799825),\n",
              " (17565, 0.36927447293799825),\n",
              " (24817, 0.36927447293799825),\n",
              " (1074, 0.36514837167011077),\n",
              " (1184, 0.36514837167011077),\n",
              " (1635, 0.36514837167011077),\n",
              " (1659, 0.36514837167011077),\n",
              " (1829, 0.36514837167011077),\n",
              " (2257, 0.36514837167011077),\n",
              " (2942, 0.36514837167011077),\n",
              " (2965, 0.36514837167011077),\n",
              " (4075, 0.36514837167011077),\n",
              " (4458, 0.36514837167011077),\n",
              " (4675, 0.36514837167011077),\n",
              " (5821, 0.36514837167011077),\n",
              " (6474, 0.36514837167011077),\n",
              " (6476, 0.36514837167011077),\n",
              " (7140, 0.36514837167011077),\n",
              " (8063, 0.36514837167011077),\n",
              " (8474, 0.36514837167011077),\n",
              " (9463, 0.36514837167011077),\n",
              " (9754, 0.36514837167011077),\n",
              " (10573, 0.36514837167011077),\n",
              " (10871, 0.36514837167011077),\n",
              " (11205, 0.36514837167011077),\n",
              " (11655, 0.36514837167011077),\n",
              " (11685, 0.36514837167011077),\n",
              " (11811, 0.36514837167011077),\n",
              " (11857, 0.36514837167011077),\n",
              " (12518, 0.36514837167011077),\n",
              " (14880, 0.36514837167011077),\n",
              " (15335, 0.36514837167011077),\n",
              " (17504, 0.36514837167011077),\n",
              " (18317, 0.36514837167011077),\n",
              " (18465, 0.36514837167011077),\n",
              " (18534, 0.36514837167011077),\n",
              " (18648, 0.36514837167011077),\n",
              " (19164, 0.36514837167011077),\n",
              " (19183, 0.36514837167011077),\n",
              " (19292, 0.36514837167011077),\n",
              " (19672, 0.36514837167011077),\n",
              " (20101, 0.36514837167011077),\n",
              " (20530, 0.36514837167011077),\n",
              " (20969, 0.36514837167011077),\n",
              " (21725, 0.36514837167011077),\n",
              " (21727, 0.36514837167011077),\n",
              " (21744, 0.36514837167011077),\n",
              " (22008, 0.36514837167011077),\n",
              " (22016, 0.36514837167011077),\n",
              " (22197, 0.36514837167011077),\n",
              " (23207, 0.36514837167011077),\n",
              " (23209, 0.36514837167011077),\n",
              " (23288, 0.36514837167011077),\n",
              " (23383, 0.36514837167011077),\n",
              " (23940, 0.36514837167011077),\n",
              " (24157, 0.36514837167011077),\n",
              " (24463, 0.36514837167011077),\n",
              " (458, 0.35355339059327384),\n",
              " (5314, 0.35355339059327384),\n",
              " (6662, 0.35355339059327384),\n",
              " (7948, 0.35355339059327384),\n",
              " (11372, 0.35355339059327384),\n",
              " (14561, 0.35355339059327384),\n",
              " (1747, 0.33968311024337877),\n",
              " (5651, 0.33968311024337877),\n",
              " (9432, 0.33968311024337877),\n",
              " (23469, 0.33968311024337877),\n",
              " (23977, 0.33968311024337877),\n",
              " (24816, 0.33968311024337877),\n",
              " (613, 0.3333333333333334),\n",
              " (1038, 0.3333333333333334),\n",
              " (1225, 0.3333333333333334),\n",
              " (1316, 0.3333333333333334),\n",
              " (1733, 0.3333333333333334),\n",
              " (1852, 0.3333333333333334),\n",
              " (1897, 0.3333333333333334),\n",
              " (2111, 0.3333333333333334),\n",
              " (2178, 0.3333333333333334),\n",
              " (2447, 0.3333333333333334),\n",
              " (2456, 0.3333333333333334),\n",
              " (2526, 0.3333333333333334),\n",
              " (2615, 0.3333333333333334),\n",
              " (3096, 0.3333333333333334),\n",
              " (3515, 0.3333333333333334),\n",
              " (3716, 0.3333333333333334),\n",
              " (3738, 0.3333333333333334),\n",
              " (3740, 0.3333333333333334),\n",
              " (4308, 0.3333333333333334),\n",
              " (4411, 0.3333333333333334),\n",
              " (4504, 0.3333333333333334),\n",
              " (4559, 0.3333333333333334),\n",
              " (4873, 0.3333333333333334),\n",
              " (6131, 0.3333333333333334),\n",
              " (6261, 0.3333333333333334),\n",
              " (6438, 0.3333333333333334),\n",
              " (6455, 0.3333333333333334),\n",
              " (6506, 0.3333333333333334),\n",
              " (7043, 0.3333333333333334),\n",
              " (7447, 0.3333333333333334),\n",
              " (7479, 0.3333333333333334),\n",
              " (7530, 0.3333333333333334),\n",
              " (7617, 0.3333333333333334),\n",
              " (8251, 0.3333333333333334),\n",
              " (8257, 0.3333333333333334),\n",
              " (8892, 0.3333333333333334),\n",
              " (9350, 0.3333333333333334),\n",
              " (9876, 0.3333333333333334),\n",
              " (9916, 0.3333333333333334),\n",
              " (10204, 0.3333333333333334),\n",
              " (10636, 0.3333333333333334),\n",
              " (11181, 0.3333333333333334),\n",
              " (11314, 0.3333333333333334),\n",
              " (11381, 0.3333333333333334),\n",
              " (11664, 0.3333333333333334),\n",
              " (11666, 0.3333333333333334),\n",
              " (11674, 0.3333333333333334),\n",
              " (11688, 0.3333333333333334),\n",
              " (11980, 0.3333333333333334),\n",
              " (12220, 0.3333333333333334),\n",
              " (12761, 0.3333333333333334),\n",
              " (13035, 0.3333333333333334),\n",
              " (13157, 0.3333333333333334),\n",
              " (13250, 0.3333333333333334),\n",
              " (14010, 0.3333333333333334),\n",
              " (14178, 0.3333333333333334),\n",
              " (14201, 0.3333333333333334),\n",
              " (14232, 0.3333333333333334),\n",
              " (14331, 0.3333333333333334),\n",
              " (14451, 0.3333333333333334),\n",
              " (14818, 0.3333333333333334),\n",
              " (14831, 0.3333333333333334),\n",
              " (15448, 0.3333333333333334),\n",
              " (16181, 0.3333333333333334),\n",
              " (16246, 0.3333333333333334),\n",
              " (16480, 0.3333333333333334),\n",
              " (16961, 0.3333333333333334),\n",
              " (17230, 0.3333333333333334),\n",
              " (17452, 0.3333333333333334),\n",
              " (18149, 0.3333333333333334),\n",
              " (18430, 0.3333333333333334),\n",
              " (18941, 0.3333333333333334),\n",
              " (19756, 0.3333333333333334),\n",
              " (19910, 0.3333333333333334),\n",
              " (19977, 0.3333333333333334),\n",
              " (20221, 0.3333333333333334),\n",
              " (20679, 0.3333333333333334),\n",
              " (21209, 0.3333333333333334),\n",
              " (21562, 0.3333333333333334),\n",
              " (21633, 0.3333333333333334),\n",
              " (21772, 0.3333333333333334),\n",
              " (22013, 0.3333333333333334),\n",
              " (22045, 0.3333333333333334),\n",
              " (22056, 0.3333333333333334),\n",
              " (23019, 0.3333333333333334),\n",
              " (23035, 0.3333333333333334),\n",
              " (23975, 0.3333333333333334),\n",
              " (24030, 0.3333333333333334),\n",
              " (25397, 0.3333333333333334),\n",
              " (25578, 0.3333333333333334),\n",
              " (25591, 0.3333333333333334),\n",
              " (25615, 0.3333333333333334),\n",
              " (25729, 0.3333333333333334),\n",
              " (19165, 0.32732683535398865),\n",
              " (19456, 0.32732683535398865),\n",
              " (3243, 0.31622776601683794),\n",
              " (4613, 0.31622776601683794),\n",
              " (312, 0.3086066999241838),\n",
              " (498, 0.3086066999241838),\n",
              " (518, 0.3086066999241838),\n",
              " (593, 0.3086066999241838),\n",
              " (669, 0.3086066999241838),\n",
              " (1097, 0.3086066999241838),\n",
              " (1293, 0.3086066999241838),\n",
              " (1345, 0.3086066999241838),\n",
              " (1368, 0.3086066999241838),\n",
              " (2255, 0.3086066999241838),\n",
              " (2420, 0.3086066999241838),\n",
              " (2445, 0.3086066999241838),\n",
              " (3410, 0.3086066999241838),\n",
              " (3727, 0.3086066999241838),\n",
              " (3943, 0.3086066999241838),\n",
              " (4004, 0.3086066999241838),\n",
              " (4554, 0.3086066999241838),\n",
              " (4856, 0.3086066999241838),\n",
              " (4909, 0.3086066999241838),\n",
              " (5034, 0.3086066999241838),\n",
              " (5324, 0.3086066999241838),\n",
              " (5971, 0.3086066999241838),\n",
              " (6424, 0.3086066999241838),\n",
              " (6700, 0.3086066999241838),\n",
              " (6949, 0.3086066999241838),\n",
              " (7194, 0.3086066999241838),\n",
              " (8300, 0.3086066999241838),\n",
              " (8675, 0.3086066999241838),\n",
              " (9055, 0.3086066999241838),\n",
              " (9200, 0.3086066999241838),\n",
              " (9302, 0.3086066999241838),\n",
              " (9315, 0.3086066999241838),\n",
              " (10102, 0.3086066999241838),\n",
              " (10146, 0.3086066999241838),\n",
              " (10343, 0.3086066999241838),\n",
              " (10614, 0.3086066999241838),\n",
              " (10801, 0.3086066999241838),\n",
              " (11002, 0.3086066999241838),\n",
              " (11038, 0.3086066999241838),\n",
              " (11312, 0.3086066999241838),\n",
              " (11536, 0.3086066999241838),\n",
              " (11876, 0.3086066999241838),\n",
              " (11910, 0.3086066999241838),\n",
              " (12120, 0.3086066999241838),\n",
              " (12367, 0.3086066999241838),\n",
              " (12528, 0.3086066999241838),\n",
              " (12683, 0.3086066999241838),\n",
              " (12726, 0.3086066999241838),\n",
              " (13511, 0.3086066999241838),\n",
              " (13681, 0.3086066999241838),\n",
              " (13757, 0.3086066999241838),\n",
              " (14390, 0.3086066999241838),\n",
              " (14421, 0.3086066999241838),\n",
              " (14450, 0.3086066999241838),\n",
              " (14476, 0.3086066999241838),\n",
              " (15455, 0.3086066999241838),\n",
              " (15468, 0.3086066999241838),\n",
              " (15583, 0.3086066999241838),\n",
              " (15700, 0.3086066999241838),\n",
              " (15708, 0.3086066999241838),\n",
              " (15817, 0.3086066999241838),\n",
              " (16017, 0.3086066999241838),\n",
              " (16497, 0.3086066999241838),\n",
              " (16502, 0.3086066999241838),\n",
              " (16770, 0.3086066999241838),\n",
              " (16991, 0.3086066999241838),\n",
              " (17985, 0.3086066999241838),\n",
              " (18036, 0.3086066999241838),\n",
              " (18299, 0.3086066999241838),\n",
              " (19169, 0.3086066999241838),\n",
              " (19307, 0.3086066999241838),\n",
              " (19422, 0.3086066999241838),\n",
              " (19651, 0.3086066999241838),\n",
              " (19800, 0.3086066999241838),\n",
              " (19869, 0.3086066999241838),\n",
              " (20098, 0.3086066999241838),\n",
              " (20152, 0.3086066999241838),\n",
              " (20409, 0.3086066999241838),\n",
              " (20981, 0.3086066999241838),\n",
              " (21112, 0.3086066999241838),\n",
              " (21201, 0.3086066999241838),\n",
              " (21563, 0.3086066999241838),\n",
              " (21818, 0.3086066999241838),\n",
              " (21822, 0.3086066999241838),\n",
              " (21952, 0.3086066999241838),\n",
              " (22049, 0.3086066999241838),\n",
              " (22202, 0.3086066999241838),\n",
              " (22349, 0.3086066999241838),\n",
              " (22555, 0.3086066999241838),\n",
              " (23498, 0.3086066999241838),\n",
              " (23796, 0.3086066999241838),\n",
              " (23999, 0.3086066999241838),\n",
              " (24419, 0.3086066999241838),\n",
              " (25390, 0.3086066999241838),\n",
              " (17621, 0.3061862178478973),\n",
              " (354, 0.2886751345948129),\n",
              " (856, 0.2886751345948129),\n",
              " (1268, 0.2886751345948129),\n",
              " (1295, 0.2886751345948129),\n",
              " (1382, 0.2886751345948129),\n",
              " (1503, 0.2886751345948129),\n",
              " (1631, 0.2886751345948129),\n",
              " (1847, 0.2886751345948129),\n",
              " (2391, 0.2886751345948129),\n",
              " (2858, 0.2886751345948129),\n",
              " (3021, 0.2886751345948129),\n",
              " (3074, 0.2886751345948129),\n",
              " (3457, 0.2886751345948129),\n",
              " (3509, 0.2886751345948129),\n",
              " (3577, 0.2886751345948129),\n",
              " (3745, 0.2886751345948129),\n",
              " (4512, 0.2886751345948129),\n",
              " (5885, 0.2886751345948129),\n",
              " (6232, 0.2886751345948129),\n",
              " (6861, 0.2886751345948129),\n",
              " (6876, 0.2886751345948129),\n",
              " (7083, 0.2886751345948129),\n",
              " (7544, 0.2886751345948129),\n",
              " (7566, 0.2886751345948129),\n",
              " (7819, 0.2886751345948129),\n",
              " (8376, 0.2886751345948129),\n",
              " (8614, 0.2886751345948129),\n",
              " (8761, 0.2886751345948129),\n",
              " (8827, 0.2886751345948129),\n",
              " (9947, 0.2886751345948129),\n",
              " (10787, 0.2886751345948129),\n",
              " (11186, 0.2886751345948129),\n",
              " (11295, 0.2886751345948129),\n",
              " (11893, 0.2886751345948129),\n",
              " (12763, 0.2886751345948129),\n",
              " (13305, 0.2886751345948129),\n",
              " (13818, 0.2886751345948129),\n",
              " (13820, 0.2886751345948129),\n",
              " (13939, 0.2886751345948129),\n",
              " (13977, 0.2886751345948129),\n",
              " (14114, 0.2886751345948129),\n",
              " (14442, 0.2886751345948129),\n",
              " (14548, 0.2886751345948129),\n",
              " (15122, 0.2886751345948129),\n",
              " (17241, 0.2886751345948129),\n",
              " (17357, 0.2886751345948129),\n",
              " (17398, 0.2886751345948129),\n",
              " (17725, 0.2886751345948129),\n",
              " (18312, 0.2886751345948129),\n",
              " (18367, 0.2886751345948129),\n",
              " (19460, 0.2886751345948129),\n",
              " (19472, 0.2886751345948129),\n",
              " (19585, 0.2886751345948129),\n",
              " (19762, 0.2886751345948129),\n",
              " (20603, 0.2886751345948129),\n",
              " (20890, 0.2886751345948129),\n",
              " (20953, 0.2886751345948129),\n",
              " (21228, 0.2886751345948129),\n",
              " (21299, 0.2886751345948129),\n",
              " (21694, 0.2886751345948129),\n",
              " (22033, 0.2886751345948129),\n",
              " (22284, 0.2886751345948129),\n",
              " (22379, 0.2886751345948129),\n",
              " (22517, 0.2886751345948129),\n",
              " (22572, 0.2886751345948129),\n",
              " (23197, 0.2886751345948129),\n",
              " (23241, 0.2886751345948129),\n",
              " (24053, 0.2886751345948129),\n",
              " (24173, 0.2886751345948129),\n",
              " (25113, 0.2886751345948129),\n",
              " (25212, 0.2886751345948129),\n",
              " (25672, 0.2886751345948129),\n",
              " (6897, 0.2738612787525831),\n",
              " (20733, 0.2738612787525831),\n",
              " (282, 0.2721655269759087),\n",
              " (595, 0.2721655269759087),\n",
              " (817, 0.2721655269759087),\n",
              " (834, 0.2721655269759087),\n",
              " (1333, 0.2721655269759087),\n",
              " (2432, 0.2721655269759087),\n",
              " (2517, 0.2721655269759087),\n",
              " (2661, 0.2721655269759087),\n",
              " (3651, 0.2721655269759087),\n",
              " (5145, 0.2721655269759087),\n",
              " (5351, 0.2721655269759087),\n",
              " (5473, 0.2721655269759087),\n",
              " (5723, 0.2721655269759087),\n",
              " (6095, 0.2721655269759087),\n",
              " (6099, 0.2721655269759087),\n",
              " (6711, 0.2721655269759087),\n",
              " (6753, 0.2721655269759087),\n",
              " (6776, 0.2721655269759087),\n",
              " (7065, 0.2721655269759087),\n",
              " (8374, 0.2721655269759087),\n",
              " (8621, 0.2721655269759087),\n",
              " (9075, 0.2721655269759087),\n",
              " (9453, 0.2721655269759087),\n",
              " (10824, 0.2721655269759087),\n",
              " (13550, 0.2721655269759087),\n",
              " (13596, 0.2721655269759087),\n",
              " (13662, 0.2721655269759087),\n",
              " (13741, 0.2721655269759087),\n",
              " (13742, 0.2721655269759087),\n",
              " (13780, 0.2721655269759087),\n",
              " (13874, 0.2721655269759087),\n",
              " (13934, 0.2721655269759087),\n",
              " (14839, 0.2721655269759087),\n",
              " (15228, 0.2721655269759087),\n",
              " (16266, 0.2721655269759087),\n",
              " (17192, 0.2721655269759087),\n",
              " (19020, 0.2721655269759087),\n",
              " (19834, 0.2721655269759087),\n",
              " (20747, 0.2721655269759087),\n",
              " (20868, 0.2721655269759087),\n",
              " (21009, 0.2721655269759087),\n",
              " (21308, 0.2721655269759087),\n",
              " (21340, 0.2721655269759087),\n",
              " (21641, 0.2721655269759087),\n",
              " (22716, 0.2721655269759087),\n",
              " (22724, 0.2721655269759087),\n",
              " (23101, 0.2721655269759087),\n",
              " (23770, 0.2721655269759087),\n",
              " (24801, 0.2721655269759087),\n",
              " (24904, 0.2721655269759087),\n",
              " (24988, 0.2721655269759087),\n",
              " (25021, 0.2672612419124244),\n",
              " (1695, 0.25819888974716115),\n",
              " (2128, 0.25819888974716115),\n",
              " (2529, 0.25819888974716115),\n",
              " (2558, 0.25819888974716115),\n",
              " (2857, 0.25819888974716115),\n",
              " (2975, 0.25819888974716115),\n",
              " (3524, 0.25819888974716115),\n",
              " (3917, 0.25819888974716115),\n",
              " (12924, 0.25819888974716115),\n",
              " (12940, 0.25819888974716115),\n",
              " (15384, 0.25819888974716115),\n",
              " (15719, 0.25819888974716115),\n",
              " (16993, 0.25819888974716115),\n",
              " (18634, 0.25819888974716115),\n",
              " (18711, 0.25819888974716115),\n",
              " (19014, 0.25819888974716115),\n",
              " (19283, 0.25819888974716115),\n",
              " (20100, 0.25819888974716115),\n",
              " (23400, 0.25819888974716115),\n",
              " (24046, 0.25819888974716115),\n",
              " (4762, 0.2461829819586655),\n",
              " (10685, 0.2461829819586655),\n",
              " (17429, 0.2461829819586655),\n",
              " (17494, 0.2461829819586655),\n",
              " (17638, 0.2461829819586655),\n",
              " (18086, 0.2461829819586655),\n",
              " (18878, 0.2461829819586655),\n",
              " (21160, 0.2461829819586655),\n",
              " (21648, 0.2461829819586655),\n",
              " (511, 0.2357022603955159),\n",
              " (635, 0.2357022603955159),\n",
              " (2058, 0.2357022603955159),\n",
              " (2076, 0.2357022603955159),\n",
              " (2133, 0.2357022603955159),\n",
              " (2610, 0.2357022603955159),\n",
              " (2751, 0.2357022603955159),\n",
              " (3205, 0.2357022603955159),\n",
              " (3852, 0.2357022603955159),\n",
              " (3997, 0.2357022603955159),\n",
              " (5253, 0.2357022603955159),\n",
              " (5348, 0.2357022603955159),\n",
              " (5535, 0.2357022603955159),\n",
              " (5557, 0.2357022603955159),\n",
              " (5920, 0.2357022603955159),\n",
              " (6548, 0.2357022603955159),\n",
              " (6844, 0.2357022603955159),\n",
              " (7334, 0.2357022603955159),\n",
              " (9029, 0.2357022603955159),\n",
              " (9214, 0.2357022603955159),\n",
              " (9349, 0.2357022603955159),\n",
              " (9934, 0.2357022603955159),\n",
              " (10036, 0.2357022603955159),\n",
              " (10514, 0.2357022603955159),\n",
              " (10742, 0.2357022603955159),\n",
              " (11060, 0.2357022603955159),\n",
              " (11082, 0.2357022603955159),\n",
              " (11654, 0.2357022603955159),\n",
              " (11838, 0.2357022603955159),\n",
              " (11855, 0.2357022603955159),\n",
              " (12341, 0.2357022603955159),\n",
              " (12637, 0.2357022603955159),\n",
              " (13328, 0.2357022603955159),\n",
              " (14171, 0.2357022603955159),\n",
              " (14414, 0.2357022603955159),\n",
              " (15058, 0.2357022603955159),\n",
              " (15264, 0.2357022603955159),\n",
              " (15422, 0.2357022603955159),\n",
              " (16169, 0.2357022603955159),\n",
              " (16233, 0.2357022603955159),\n",
              " (16660, 0.2357022603955159),\n",
              " (17204, 0.2357022603955159),\n",
              " (17476, 0.2357022603955159),\n",
              " (17478, 0.2357022603955159),\n",
              " (18199, 0.2357022603955159),\n",
              " (18522, 0.2357022603955159),\n",
              " (18835, 0.2357022603955159),\n",
              " (18856, 0.2357022603955159),\n",
              " (18998, 0.2357022603955159),\n",
              " (20353, 0.2357022603955159),\n",
              " (20624, 0.2357022603955159),\n",
              " (21955, 0.2357022603955159),\n",
              " (22810, 0.2357022603955159),\n",
              " (184, 0.22645540682891918),\n",
              " (601, 0.22645540682891918),\n",
              " (889, 0.22645540682891918),\n",
              " (1050, 0.22645540682891918),\n",
              " (1429, 0.22645540682891918),\n",
              " (4806, 0.22645540682891918),\n",
              " (10516, 0.22645540682891918),\n",
              " (13116, 0.22645540682891918),\n",
              " (16710, 0.22645540682891918),\n",
              " (17644, 0.22645540682891918),\n",
              " (22923, 0.22645540682891918),\n",
              " (21016, 0.21821789023599242),\n",
              " (22226, 0.21821789023599242),\n",
              " (9431, 0.21081851067789195),\n",
              " (10170, 0.21081851067789195),\n",
              " (20618, 0.21081851067789195),\n",
              " (29, 0.20412414523193154),\n",
              " (146, 0.20412414523193154),\n",
              " (268, 0.20412414523193154),\n",
              " (304, 0.20412414523193154),\n",
              " (308, 0.20412414523193154),\n",
              " (320, 0.20412414523193154),\n",
              " (335, 0.20412414523193154),\n",
              " (358, 0.20412414523193154),\n",
              " (455, 0.20412414523193154),\n",
              " (490, 0.20412414523193154),\n",
              " (500, 0.20412414523193154),\n",
              " (514, 0.20412414523193154),\n",
              " (553, 0.20412414523193154),\n",
              " (679, 0.20412414523193154),\n",
              " (686, 0.20412414523193154),\n",
              " (750, 0.20412414523193154),\n",
              " (1055, 0.20412414523193154),\n",
              " (1416, 0.20412414523193154),\n",
              " (1492, 0.20412414523193154),\n",
              " (1580, 0.20412414523193154),\n",
              " (1840, 0.20412414523193154),\n",
              " (1891, 0.20412414523193154),\n",
              " (1947, 0.20412414523193154),\n",
              " (2016, 0.20412414523193154),\n",
              " (2019, 0.20412414523193154),\n",
              " (2036, 0.20412414523193154),\n",
              " (2508, 0.20412414523193154),\n",
              " (2719, 0.20412414523193154),\n",
              " (2745, 0.20412414523193154),\n",
              " (3190, 0.20412414523193154),\n",
              " (3191, 0.20412414523193154),\n",
              " (3346, 0.20412414523193154),\n",
              " (3423, 0.20412414523193154),\n",
              " (3451, 0.20412414523193154),\n",
              " (3611, 0.20412414523193154),\n",
              " (3767, 0.20412414523193154),\n",
              " (3952, 0.20412414523193154),\n",
              " (4300, 0.20412414523193154),\n",
              " (4373, 0.20412414523193154),\n",
              " (4375, 0.20412414523193154),\n",
              " (4435, 0.20412414523193154),\n",
              " (4479, 0.20412414523193154),\n",
              " (4522, 0.20412414523193154),\n",
              " (4571, 0.20412414523193154),\n",
              " (4797, 0.20412414523193154),\n",
              " (5191, 0.20412414523193154),\n",
              " (5349, 0.20412414523193154),\n",
              " (5740, 0.20412414523193154),\n",
              " (5929, 0.20412414523193154),\n",
              " (6379, 0.20412414523193154),\n",
              " (6484, 0.20412414523193154),\n",
              " (6782, 0.20412414523193154),\n",
              " (6792, 0.20412414523193154),\n",
              " (7034, 0.20412414523193154),\n",
              " (7249, 0.20412414523193154),\n",
              " (7380, 0.20412414523193154),\n",
              " (7509, 0.20412414523193154),\n",
              " (7570, 0.20412414523193154),\n",
              " (7627, 0.20412414523193154),\n",
              " (7821, 0.20412414523193154),\n",
              " (7990, 0.20412414523193154),\n",
              " (8019, 0.20412414523193154),\n",
              " (8050, 0.20412414523193154),\n",
              " (8223, 0.20412414523193154),\n",
              " (8324, 0.20412414523193154),\n",
              " (8575, 0.20412414523193154),\n",
              " (8637, 0.20412414523193154),\n",
              " (8685, 0.20412414523193154),\n",
              " (8980, 0.20412414523193154),\n",
              " (9011, 0.20412414523193154),\n",
              " (9094, 0.20412414523193154),\n",
              " (9145, 0.20412414523193154),\n",
              " (9235, 0.20412414523193154),\n",
              " (9250, 0.20412414523193154),\n",
              " (9266, 0.20412414523193154),\n",
              " (9335, 0.20412414523193154),\n",
              " (9485, 0.20412414523193154),\n",
              " (9882, 0.20412414523193154),\n",
              " (9958, 0.20412414523193154),\n",
              " (9990, 0.20412414523193154),\n",
              " (10096, 0.20412414523193154),\n",
              " (10220, 0.20412414523193154),\n",
              " (10269, 0.20412414523193154),\n",
              " (10575, 0.20412414523193154),\n",
              " (10768, 0.20412414523193154),\n",
              " (10902, 0.20412414523193154),\n",
              " (11056, 0.20412414523193154),\n",
              " (11215, 0.20412414523193154),\n",
              " (11388, 0.20412414523193154),\n",
              " (11490, 0.20412414523193154),\n",
              " (11808, 0.20412414523193154),\n",
              " (11993, 0.20412414523193154),\n",
              " (12070, 0.20412414523193154),\n",
              " (12134, 0.20412414523193154),\n",
              " (12380, 0.20412414523193154),\n",
              " (12461, 0.20412414523193154),\n",
              " (12612, 0.20412414523193154),\n",
              " (12660, 0.20412414523193154),\n",
              " (12699, 0.20412414523193154),\n",
              " (12754, 0.20412414523193154),\n",
              " (12755, 0.20412414523193154),\n",
              " (12873, 0.20412414523193154),\n",
              " (12881, 0.20412414523193154),\n",
              " (13042, 0.20412414523193154),\n",
              " (13109, 0.20412414523193154),\n",
              " (13161, 0.20412414523193154),\n",
              " (13735, 0.20412414523193154),\n",
              " (13736, 0.20412414523193154),\n",
              " (13759, 0.20412414523193154),\n",
              " (13816, 0.20412414523193154),\n",
              " (13978, 0.20412414523193154),\n",
              " (14166, 0.20412414523193154),\n",
              " (14194, 0.20412414523193154),\n",
              " (14284, 0.20412414523193154),\n",
              " (14366, 0.20412414523193154),\n",
              " (14422, 0.20412414523193154),\n",
              " (14811, 0.20412414523193154),\n",
              " (14850, 0.20412414523193154),\n",
              " (14856, 0.20412414523193154),\n",
              " (14914, 0.20412414523193154),\n",
              " (15298, 0.20412414523193154),\n",
              " (15304, 0.20412414523193154),\n",
              " (15537, 0.20412414523193154),\n",
              " (15682, 0.20412414523193154),\n",
              " (15904, 0.20412414523193154),\n",
              " (16098, 0.20412414523193154),\n",
              " (16099, 0.20412414523193154),\n",
              " (16187, 0.20412414523193154),\n",
              " (16288, 0.20412414523193154),\n",
              " (16374, 0.20412414523193154),\n",
              " (16390, 0.20412414523193154),\n",
              " (16458, 0.20412414523193154),\n",
              " (16493, 0.20412414523193154),\n",
              " (16885, 0.20412414523193154),\n",
              " (16934, 0.20412414523193154),\n",
              " (17315, 0.20412414523193154),\n",
              " (17384, 0.20412414523193154),\n",
              " (17406, 0.20412414523193154),\n",
              " (17528, 0.20412414523193154),\n",
              " (17661, 0.20412414523193154),\n",
              " (17723, 0.20412414523193154),\n",
              " (17746, 0.20412414523193154),\n",
              " (17791, 0.20412414523193154),\n",
              " (17852, 0.20412414523193154),\n",
              " (18340, 0.20412414523193154),\n",
              " (18458, 0.20412414523193154),\n",
              " (18890, 0.20412414523193154),\n",
              " (18949, 0.20412414523193154),\n",
              " (18963, 0.20412414523193154),\n",
              " (18968, 0.20412414523193154),\n",
              " (18994, 0.20412414523193154),\n",
              " (19212, 0.20412414523193154),\n",
              " (19247, 0.20412414523193154),\n",
              " (19315, 0.20412414523193154),\n",
              " (19319, 0.20412414523193154),\n",
              " (19511, 0.20412414523193154),\n",
              " (19831, 0.20412414523193154),\n",
              " (19860, 0.20412414523193154),\n",
              " (20031, 0.20412414523193154),\n",
              " (20214, 0.20412414523193154),\n",
              " (20217, 0.20412414523193154),\n",
              " (20476, 0.20412414523193154),\n",
              " (20769, 0.20412414523193154),\n",
              " (20816, 0.20412414523193154),\n",
              " (21021, 0.20412414523193154),\n",
              " (21080, 0.20412414523193154),\n",
              " (21121, 0.20412414523193154),\n",
              " (21297, 0.20412414523193154),\n",
              " (21309, 0.20412414523193154),\n",
              " (21323, 0.20412414523193154),\n",
              " (21383, 0.20412414523193154),\n",
              " (21546, 0.20412414523193154),\n",
              " (21614, 0.20412414523193154),\n",
              " (21627, 0.20412414523193154),\n",
              " (21634, 0.20412414523193154),\n",
              " (21997, 0.20412414523193154),\n",
              " (22145, 0.20412414523193154),\n",
              " (22198, 0.20412414523193154),\n",
              " (22217, 0.20412414523193154),\n",
              " (22496, 0.20412414523193154),\n",
              " (22515, 0.20412414523193154),\n",
              " (22542, 0.20412414523193154),\n",
              " (22584, 0.20412414523193154),\n",
              " (22624, 0.20412414523193154),\n",
              " (22723, 0.20412414523193154),\n",
              " (23194, 0.20412414523193154),\n",
              " (23349, 0.20412414523193154),\n",
              " (23450, 0.20412414523193154),\n",
              " (23583, 0.20412414523193154),\n",
              " (23863, 0.20412414523193154),\n",
              " (23867, 0.20412414523193154),\n",
              " (23912, 0.20412414523193154),\n",
              " (24165, 0.20412414523193154),\n",
              " (24362, 0.20412414523193154),\n",
              " (24536, 0.20412414523193154),\n",
              " (24587, 0.20412414523193154),\n",
              " (24736, 0.20412414523193154),\n",
              " (25144, 0.20412414523193154),\n",
              " (25276, 0.20412414523193154),\n",
              " (25333, 0.20412414523193154),\n",
              " (25358, 0.20412414523193154),\n",
              " (25431, 0.20412414523193154),\n",
              " (25434, 0.20412414523193154),\n",
              " (25646, 0.20412414523193154),\n",
              " (25656, 0.20412414523193154),\n",
              " (25658, 0.20412414523193154),\n",
              " (2319, 0.19802950859533489),\n",
              " (13137, 0.19802950859533489),\n",
              " (12894, 0.1924500897298753),\n",
              " (24291, 0.1924500897298753),\n",
              " (10647, 0.1873171623163388),\n",
              " (125, 0.18257418583505539),\n",
              " (252, 0.18257418583505539),\n",
              " (439, 0.18257418583505539),\n",
              " (450, 0.18257418583505539),\n",
              " (577, 0.18257418583505539),\n",
              " (619, 0.18257418583505539),\n",
              " (682, 0.18257418583505539),\n",
              " (779, 0.18257418583505539),\n",
              " (818, 0.18257418583505539),\n",
              " (835, 0.18257418583505539),\n",
              " (848, 0.18257418583505539),\n",
              " (888, 0.18257418583505539),\n",
              " (1015, 0.18257418583505539),\n",
              " (1044, 0.18257418583505539),\n",
              " (1116, 0.18257418583505539),\n",
              " (1135, 0.18257418583505539),\n",
              " (1209, 0.18257418583505539),\n",
              " (1229, 0.18257418583505539),\n",
              " (1378, 0.18257418583505539),\n",
              " (1590, 0.18257418583505539),\n",
              " (1699, 0.18257418583505539),\n",
              " (1706, 0.18257418583505539),\n",
              " (1724, 0.18257418583505539),\n",
              " (1831, 0.18257418583505539),\n",
              " (1850, 0.18257418583505539),\n",
              " (1885, 0.18257418583505539),\n",
              " (2110, 0.18257418583505539),\n",
              " (2225, 0.18257418583505539),\n",
              " (2307, 0.18257418583505539),\n",
              " (2363, 0.18257418583505539),\n",
              " (2552, 0.18257418583505539),\n",
              " (2588, 0.18257418583505539),\n",
              " (2668, 0.18257418583505539),\n",
              " (2799, 0.18257418583505539),\n",
              " (2935, 0.18257418583505539),\n",
              " (3203, 0.18257418583505539),\n",
              " (3206, 0.18257418583505539),\n",
              " (3259, 0.18257418583505539),\n",
              " (3275, 0.18257418583505539),\n",
              " (3323, 0.18257418583505539),\n",
              " (3518, 0.18257418583505539),\n",
              " (3606, 0.18257418583505539),\n",
              " (3615, 0.18257418583505539),\n",
              " (3647, 0.18257418583505539),\n",
              " (3669, 0.18257418583505539),\n",
              " (3707, 0.18257418583505539),\n",
              " (3762, 0.18257418583505539),\n",
              " (3771, 0.18257418583505539),\n",
              " (3791, 0.18257418583505539),\n",
              " (3845, 0.18257418583505539),\n",
              " (3860, 0.18257418583505539),\n",
              " (3976, 0.18257418583505539),\n",
              " (4032, 0.18257418583505539),\n",
              " (4134, 0.18257418583505539),\n",
              " (4135, 0.18257418583505539),\n",
              " (4312, 0.18257418583505539),\n",
              " (4356, 0.18257418583505539),\n",
              " (4393, 0.18257418583505539),\n",
              " (4421, 0.18257418583505539),\n",
              " (4693, 0.18257418583505539),\n",
              " (4716, 0.18257418583505539),\n",
              " (4776, 0.18257418583505539),\n",
              " (4801, 0.18257418583505539),\n",
              " (4927, 0.18257418583505539),\n",
              " (4945, 0.18257418583505539),\n",
              " (4977, 0.18257418583505539),\n",
              " (5032, 0.18257418583505539),\n",
              " (5052, 0.18257418583505539),\n",
              " (5068, 0.18257418583505539),\n",
              " (5215, 0.18257418583505539),\n",
              " (5251, 0.18257418583505539),\n",
              " (5477, 0.18257418583505539),\n",
              " (5507, 0.18257418583505539),\n",
              " (5551, 0.18257418583505539),\n",
              " (5590, 0.18257418583505539),\n",
              " (5784, 0.18257418583505539),\n",
              " (5856, 0.18257418583505539),\n",
              " (5899, 0.18257418583505539),\n",
              " (5928, 0.18257418583505539),\n",
              " ...]"
            ]
          },
          "execution_count": 53,
          "metadata": {},
          "output_type": "execute_result"
        }
      ],
      "source": [
        "sorted(list(enumerate(similarity[12])),reverse=True,key=lambda x:x[1])"
      ]
    },
    {
      "cell_type": "code",
      "execution_count": 54,
      "metadata": {
        "colab": {
          "base_uri": "https://localhost:8080/"
        },
        "id": "qUZURtZ7icjg",
        "outputId": "cf334b9e-9666-40c2-8322-9f2caa0846cb"
      },
      "outputs": [],
      "source": [
        "x=sorted(list(enumerate(similarity[12])),reverse=True,key=lambda x:x[1])[1:11]"
      ]
    },
    {
      "cell_type": "code",
      "execution_count": 55,
      "metadata": {},
      "outputs": [
        {
          "name": "stdout",
          "output_type": "stream",
          "text": [
            "19420\n",
            "1446\n",
            "13747\n",
            "15140\n",
            "16944\n",
            "11833\n",
            "94\n",
            "5763\n",
            "22853\n",
            "9881\n"
          ]
        }
      ],
      "source": [
        "for i in x:\n",
        "    print(i[0])"
      ]
    },
    {
      "cell_type": "code",
      "execution_count": 56,
      "metadata": {},
      "outputs": [
        {
          "data": {
            "text/plain": [
              "(25741, 3)"
            ]
          },
          "execution_count": 56,
          "metadata": {},
          "output_type": "execute_result"
        }
      ],
      "source": [
        "main_df.shape"
      ]
    },
    {
      "cell_type": "code",
      "execution_count": 57,
      "metadata": {},
      "outputs": [
        {
          "data": {
            "text/html": [
              "<div>\n",
              "<style scoped>\n",
              "    .dataframe tbody tr th:only-of-type {\n",
              "        vertical-align: middle;\n",
              "    }\n",
              "\n",
              "    .dataframe tbody tr th {\n",
              "        vertical-align: top;\n",
              "    }\n",
              "\n",
              "    .dataframe thead th {\n",
              "        text-align: right;\n",
              "    }\n",
              "</style>\n",
              "<table border=\"1\" class=\"dataframe\">\n",
              "  <thead>\n",
              "    <tr style=\"text-align: right;\">\n",
              "      <th></th>\n",
              "      <th>product_id</th>\n",
              "      <th>product_name</th>\n",
              "      <th>Tags</th>\n",
              "    </tr>\n",
              "  </thead>\n",
              "  <tbody>\n",
              "    <tr>\n",
              "      <th>25736</th>\n",
              "      <td>49679</td>\n",
              "      <td>Famous Chocolate Wafers</td>\n",
              "      <td>snacks cookiescakes famou chocol wafer</td>\n",
              "    </tr>\n",
              "    <tr>\n",
              "      <th>25737</th>\n",
              "      <td>49680</td>\n",
              "      <td>All Natural Creamy Caesar Dressing</td>\n",
              "      <td>pantry saladdressingtoppings natur creami caes...</td>\n",
              "    </tr>\n",
              "    <tr>\n",
              "      <th>25738</th>\n",
              "      <td>49681</td>\n",
              "      <td>Spaghetti with Meatballs and Sauce Meal</td>\n",
              "      <td>frozen frozenmeals spaghetti meatbal sauc meal</td>\n",
              "    </tr>\n",
              "    <tr>\n",
              "      <th>25739</th>\n",
              "      <td>49682</td>\n",
              "      <td>California Limeade</td>\n",
              "      <td>beverages juicenectars california limead</td>\n",
              "    </tr>\n",
              "    <tr>\n",
              "      <th>25740</th>\n",
              "      <td>49688</td>\n",
              "      <td>Fresh Foaming Cleanser</td>\n",
              "      <td>personalcare facialcare fresh foam cleanser</td>\n",
              "    </tr>\n",
              "  </tbody>\n",
              "</table>\n",
              "</div>"
            ],
            "text/plain": [
              "       product_id                             product_name  \\\n",
              "25736       49679                  Famous Chocolate Wafers   \n",
              "25737       49680       All Natural Creamy Caesar Dressing   \n",
              "25738       49681  Spaghetti with Meatballs and Sauce Meal   \n",
              "25739       49682                       California Limeade   \n",
              "25740       49688                   Fresh Foaming Cleanser   \n",
              "\n",
              "                                                    Tags  \n",
              "25736             snacks cookiescakes famou chocol wafer  \n",
              "25737  pantry saladdressingtoppings natur creami caes...  \n",
              "25738     frozen frozenmeals spaghetti meatbal sauc meal  \n",
              "25739           beverages juicenectars california limead  \n",
              "25740        personalcare facialcare fresh foam cleanser  "
            ]
          },
          "execution_count": 57,
          "metadata": {},
          "output_type": "execute_result"
        }
      ],
      "source": [
        "main_df.tail()"
      ]
    },
    {
      "cell_type": "code",
      "execution_count": 58,
      "metadata": {},
      "outputs": [
        {
          "name": "stdout",
          "output_type": "stream",
          "text": [
            "Flat Toothpicks\n",
            "Ground Flaxseed With Mixed Berries\n"
          ]
        }
      ],
      "source": [
        "print(main_df['product_name'][29])\n",
        "print(main_df['product_name'][187])\n"
      ]
    },
    {
      "cell_type": "code",
      "execution_count": 59,
      "metadata": {
        "id": "usZeWeeIPUoe"
      },
      "outputs": [],
      "source": [
        "def recommend(product_name):\n",
        "  product_index= main_df[main_df['product_name']==product_name].index[0]\n",
        "  distances=similarity[product_index]\n",
        "  products_list=sorted(list(enumerate(distances)),reverse=True,key=lambda x:x[1])[1:6]\n",
        "  \n",
        "  #top=[]\n",
        "  for i in products_list:\n",
        "    print(main_df.iloc[i[0]].product_name)\n",
        "#    movie_name= main_df['product_name'][i[0]]\n",
        "#    top.append(movie_name)\n",
        "\n",
        "    \n",
        "  #return top"
      ]
    },
    {
      "cell_type": "code",
      "execution_count": 60,
      "metadata": {},
      "outputs": [
        {
          "name": "stdout",
          "output_type": "stream",
          "text": [
            "Chocolate Wafer\n",
            "Wafer, Chocolate\n",
            "Quadratini Chocolate Cream Wafers\n",
            "Gluten Free Chocolate Coated Wafers\n",
            "Chocolate Cookies\n"
          ]
        }
      ],
      "source": [
        "recommend('Famous Chocolate Wafers')"
      ]
    },
    {
      "cell_type": "code",
      "execution_count": 61,
      "metadata": {},
      "outputs": [
        {
          "name": "stdout",
          "output_type": "stream",
          "text": [
            "L'elegance Toothpicks\n",
            "Round Toothpicks\n",
            "Frilled Toothpicks\n",
            "Plastic Toothpicks\n",
            "Toothpicks Square Round Tip\n"
          ]
        }
      ],
      "source": [
        "recommend('Flat Toothpicks')"
      ]
    },
    {
      "cell_type": "code",
      "execution_count": 62,
      "metadata": {},
      "outputs": [],
      "source": [
        "import pickle"
      ]
    },
    {
      "cell_type": "code",
      "execution_count": 63,
      "metadata": {},
      "outputs": [],
      "source": [
        "main_df2=main_df.merge(products,on=['product_id','product_name'],how='left')\n"
      ]
    },
    {
      "cell_type": "code",
      "execution_count": 64,
      "metadata": {},
      "outputs": [],
      "source": [
        "main_df3 = (main_df2.merge(aisles,on='aisle_id',how='left')).merge(departments,on='department_id',how='left')\n",
        "main_df3.head()\n",
        "main_df3= main_df3[['product_id','product_name','Tags','aisle','department']]"
      ]
    },
    {
      "cell_type": "code",
      "execution_count": 192,
      "metadata": {},
      "outputs": [],
      "source": [
        "pickle.dump(main_df3.to_dict(),open('top_products.pkl','wb'))"
      ]
    },
    {
      "cell_type": "code",
      "execution_count": 193,
      "metadata": {},
      "outputs": [],
      "source": [
        "similarity=similarity.astype('float32')"
      ]
    },
    {
      "cell_type": "code",
      "execution_count": 194,
      "metadata": {},
      "outputs": [
        {
          "data": {
            "text/plain": [
              "(25741, 25741)"
            ]
          },
          "execution_count": 194,
          "metadata": {},
          "output_type": "execute_result"
        }
      ],
      "source": [
        "similarity.shape"
      ]
    },
    {
      "cell_type": "code",
      "execution_count": 195,
      "metadata": {},
      "outputs": [
        {
          "data": {
            "text/plain": [
              "array([0.18257418, 0.        , 0.        , ..., 0.16666667, 0.        ,\n",
              "       0.        ], dtype=float32)"
            ]
          },
          "execution_count": 195,
          "metadata": {},
          "output_type": "execute_result"
        }
      ],
      "source": [
        "similarity[10]"
      ]
    },
    {
      "cell_type": "code",
      "execution_count": 196,
      "metadata": {},
      "outputs": [
        {
          "data": {
            "text/plain": [
              "dtype('float32')"
            ]
          },
          "execution_count": 196,
          "metadata": {},
          "output_type": "execute_result"
        }
      ],
      "source": [
        "similarity.dtype"
      ]
    },
    {
      "cell_type": "code",
      "execution_count": 197,
      "metadata": {},
      "outputs": [],
      "source": [
        "#pickle.dump(similarity,open('similarity.pkl','wb'))"
      ]
    },
    {
      "cell_type": "code",
      "execution_count": 3,
      "metadata": {},
      "outputs": [],
      "source": [
        "import bz2\n",
        "import pickle\n",
        "import _pickle as cPickle"
      ]
    },
    {
      "cell_type": "code",
      "execution_count": null,
      "metadata": {},
      "outputs": [],
      "source": [
        "# Saves the \"data\" with the \"title\" and adds the .pickle\n",
        "def full_pickle(title, data):\n",
        " pikd = open(title + '.pkl', 'wb')\n",
        " pickle.dump(data, pikd)\n",
        " pikd.close()"
      ]
    },
    {
      "cell_type": "code",
      "execution_count": null,
      "metadata": {},
      "outputs": [],
      "source": [
        "#full_pickle('Similarity_2',similarity)"
      ]
    },
    {
      "cell_type": "code",
      "execution_count": 4,
      "metadata": {},
      "outputs": [],
      "source": [
        "products_dicts = pickle.load(open('products_with_recommendations.pkl', 'rb'))"
      ]
    },
    {
      "cell_type": "code",
      "execution_count": null,
      "metadata": {},
      "outputs": [],
      "source": [
        "products_dicts.sample(10)"
      ]
    },
    {
      "cell_type": "code",
      "execution_count": 65,
      "metadata": {},
      "outputs": [],
      "source": [
        "filtered_products= main_df3[main_df3['product_name'].isin(products_dicts)]"
      ]
    },
    {
      "cell_type": "code",
      "execution_count": 67,
      "metadata": {},
      "outputs": [
        {
          "data": {
            "text/html": [
              "<div>\n",
              "<style scoped>\n",
              "    .dataframe tbody tr th:only-of-type {\n",
              "        vertical-align: middle;\n",
              "    }\n",
              "\n",
              "    .dataframe tbody tr th {\n",
              "        vertical-align: top;\n",
              "    }\n",
              "\n",
              "    .dataframe thead th {\n",
              "        text-align: right;\n",
              "    }\n",
              "</style>\n",
              "<table border=\"1\" class=\"dataframe\">\n",
              "  <thead>\n",
              "    <tr style=\"text-align: right;\">\n",
              "      <th></th>\n",
              "      <th>product_id</th>\n",
              "      <th>product_name</th>\n",
              "      <th>Tags</th>\n",
              "      <th>aisle</th>\n",
              "      <th>department</th>\n",
              "    </tr>\n",
              "  </thead>\n",
              "  <tbody>\n",
              "  </tbody>\n",
              "</table>\n",
              "</div>"
            ],
            "text/plain": [
              "Empty DataFrame\n",
              "Columns: [product_id, product_name, Tags, aisle, department]\n",
              "Index: []"
            ]
          },
          "execution_count": 67,
          "metadata": {},
          "output_type": "execute_result"
        }
      ],
      "source": [
        "filtered_products.head()"
      ]
    }
  ],
  "metadata": {
    "accelerator": "TPU",
    "colab": {
      "provenance": []
    },
    "kernelspec": {
      "display_name": "Python 3",
      "name": "python3"
    },
    "language_info": {
      "codemirror_mode": {
        "name": "ipython",
        "version": 3
      },
      "file_extension": ".py",
      "mimetype": "text/x-python",
      "name": "python",
      "nbconvert_exporter": "python",
      "pygments_lexer": "ipython3",
      "version": "3.12.0"
    }
  },
  "nbformat": 4,
  "nbformat_minor": 0
}
